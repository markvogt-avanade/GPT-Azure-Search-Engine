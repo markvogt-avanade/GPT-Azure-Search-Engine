{
  "cells": [
    {
      "cell_type": "markdown",
      "source": [
        "# Load and Enrich multiple file types Azure Cognitive Search\n",
        "\n",
        "In this Jupyter Notebook, we create and run enrichment steps to unlock searchable content in the specified Azure blob. It performs operations over mixed content in Azure Storage, such as images and application files, using a skillset that analyzes and extracts text information that becomes searchable in Azure Cognitive Search. \n",
        "The reference sample can be found at [Tutorial: Use Python and AI to generate searchable content from Azure blobs](https://docs.microsoft.com/azure/search/cognitive-search-tutorial-blob-python).\n",
        "\n",
        "In this demo we are going to be using a public Blob Storage container that has ~9.8k Computer Science publication PDFs from the Arxiv dataset.\n",
        "https://www.kaggle.com/datasets/Cornell-University/arxiv\n",
        "\n",
        "If you want to explore the dataset, go [HERE](https://console.cloud.google.com/storage/browser/arxiv-dataset/arxiv/cs/pdf?pageState=(%22StorageObjectListTable%22:(%22f%22:%22%255B%255D%22))&prefix=&forceOnObjectsSortingFiltering=false)\n",
        "\n",
        "Although only  PDF files are used here, this can be done at a much larger scale and Azure Cognitive Search supports a range of other file formats including: Microsoft Office (DOCX/DOC, XSLX/XLS, PPTX/PPT, MSG), HTML, XML, ZIP, and plain text files (including JSON).\n",
        "\n",
        "This notebook creates the following objects on your search service:\n",
        "\n",
        "+ search index\n",
        "+ data source\n",
        "+ skillset\n",
        "+ indexer\n",
        "\n",
        "This notebook calls the [Search REST APIs](https://docs.microsoft.com/rest/api/searchservice/), but you can also use the Azure.Search.Documents client library in the Azure SDK for Python to perform the same steps. See this [Python quickstart](https://docs.microsoft.com/azure/search/search-get-started-python) for details.\n",
        "\n",
        "To run this notebook, you should have already created the Azure services on README and edit app/credentials.py with your own values. Once you've done this, you can run all cells, but the query won't return results until the indexer is finished and the search index is loaded. \n",
        "\n",
        "We recommend running each step and making sure it completes before moving on.\n",
        "\n",
        "Reference:\n",
        "\n",
        "https://learn.microsoft.com/en-us/azure/search/cognitive-search-tutorial-blob\n",
        "\n",
        "https://github.com/Azure-Samples/azure-search-python-samples/blob/main/Tutorial-AI-Enrichment/PythonTutorial-AzureSearch-AIEnrichment.ipynb"
      ],
      "metadata": {}
    },
    {
      "cell_type": "markdown",
      "source": [
        "![cog-search](./images/Cog-Search-Enrich.png)"
      ],
      "metadata": {}
    },
    {
      "cell_type": "code",
      "source": [
        "# 2023 05 08 MEV, MCV: \r\n",
        "# MODIFIED this notebook so that a SHAREPOINT LIBRARY (presumably utilizing RBAC) is acting as the DATASOURCE, and all of the content is being INDEXED-WHERE-IT-LIES, and is therefore \r\n",
        "# under FULL RBAC\r\n",
        "# THIS is MEANT to demonstrate that Microsoft's \"SmartSearch\" accelerator (Azure Cognitive Search + Azure OpenAI/ChatGPT) RESPECTS & PRESERVES any existing RBAC and its corresponding SECURITY TRIMMING\r\n"
      ],
      "outputs": [],
      "execution_count": 4,
      "metadata": {
        "jupyter": {
          "source_hidden": false,
          "outputs_hidden": false
        },
        "nteract": {
          "transient": {
            "deleting": false
          }
        },
        "gather": {
          "logged": 1683556998214
        }
      }
    },
    {
      "cell_type": "code",
      "source": [
        "!pip list"
      ],
      "outputs": [],
      "execution_count": null,
      "metadata": {
        "jupyter": {
          "source_hidden": false,
          "outputs_hidden": false
        },
        "nteract": {
          "transient": {
            "deleting": false
          }
        },
        "collapsed": false
      }
    },
    {
      "cell_type": "code",
      "source": [
        "from platform import python_version\r\n",
        "python_version()"
      ],
      "outputs": [],
      "execution_count": null,
      "metadata": {
        "jupyter": {
          "source_hidden": false,
          "outputs_hidden": false
        },
        "nteract": {
          "transient": {
            "deleting": false
          }
        },
        "gather": {
          "logged": 1682772495120
        }
      }
    },
    {
      "cell_type": "code",
      "source": [
        "import os\n",
        "import json\n",
        "import requests\n",
        "\n",
        "# Set the Data source connection string. This is where the Arxiv's 9.8k PDFs are. \n",
        "# You can change it and use your own data if you wish\n",
        "# DATASOURCE_CONNECTION_STRING = \"DefaultEndpointsProtocol=https;AccountName=demodatasetsp;AccountKey=K9rLf3hFmKN4oZunp3xIIqjlxkyqtOfcdJQgDk65cHSYAY29rvoTx2S1x2t+mJ5tv+3LRN/FES3Q+AStuqGYIg==;EndpointSuffix=core.windows.net\"\n",
        "DATASOURCE_CONNECTION_STRING = \"DefaultEndpointsProtocol=https;AccountName=ast2023mondelezchatgpt02;AccountKey=4ABIdbtn60WZNT53Un4qXqNfflLC71dti/wY+sAtA08ft74iKVqPJW2R+VAuw3sGR6MTOfYjC1lI+AStoOmIsg==;EndpointSuffix=core.windows.net\"\n",
        "# BLOB_CONTAINER_NAME = \"arxivcs\"\n",
        "# BLOB_CONTAINER_NAME = \"container-content-sisa\"\n",
        "BLOB_CONTAINER_NAME = \"container-content-cummins\"\n",
        "# BLOB_CONTAINER_NAME = \"container-content-equipment\"\n",
        "\n",
        "# Don't mess with this unless you really know what you are doing\n",
        "AZURE_SEARCH_API_VERSION = '2021-04-30-Preview'\n",
        "\n",
        "# Change these below with your own services credentials\n",
        "# AZURE_SEARCH_ENDPOINT = \"Enter your Azure Cognitive Search Endpoint ...\"\n",
        "# AZURE_SEARCH_KEY = \"Enter your Azure Cognitive Search Primary Key ...\"\n",
        "# COG_SERVICES_NAME = \"Enter your Azure Cognitive services multi-service account name ...\"\n",
        "# COG_SERVICES_KEY = \"Enter your Azure Cognitive services multi-service Key ...\"\n",
        "AZURE_SEARCH_ENDPOINT = \"https://azure-cog-search-gtekhenxlqzvu.search.windows.net\"\n",
        "AZURE_SEARCH_KEY = \"EPpDuVjPveOV8hhzKu7e17H0AB7QIzrWGqumQK87uEAzSeB9FqUZ\"\n",
        "COG_SERVICES_NAME = \"cognitive-service-gtekhenxlqzvu\"\n",
        "COG_SERVICES_KEY = \"a05ec05336bc4946bfb4ca8bea151c9a\"\n"
      ],
      "outputs": [],
      "execution_count": null,
      "metadata": {
        "gather": {
          "logged": 1682772495305
        }
      }
    },
    {
      "cell_type": "code",
      "source": [
        "# Define the names for the data source, skillset, index and indexer\n",
        "datasource_name = \"cogsrch-datasource-files\"\n",
        "skillset_name = \"cogsrch-skillset-files\"\n",
        "index_name = \"cogsrch-index-files\"\n",
        "indexer_name = \"cogsrch-indexer-files\""
      ],
      "outputs": [],
      "execution_count": null,
      "metadata": {
        "gather": {
          "logged": 1682772495495
        }
      }
    },
    {
      "cell_type": "code",
      "source": [
        "# Setup the Payloads header\n",
        "headers = {'Content-Type': 'application/json','api-key': AZURE_SEARCH_KEY}\n",
        "params = {'api-version': AZURE_SEARCH_API_VERSION}"
      ],
      "outputs": [],
      "execution_count": null,
      "metadata": {
        "gather": {
          "logged": 1682772495675
        }
      }
    },
    {
      "cell_type": "markdown",
      "source": [
        "## Create Data Source (Blob container with the Arxiv CS pdfs)"
      ],
      "metadata": {}
    },
    {
      "cell_type": "code",
      "source": [
        "# 2023 05 08 MEV: THIS CODE WAS GENERATED BY CHATGPT.OPENAI.COM in response to the instruction: \"generate the python code to call the ACS API to define a sharepoint doc lib as a datasource\"\r\n",
        "\r\n",
        "import requests\r\n",
        "import json\r\n",
        "\r\n",
        "# Set up your Azure Cognitive Search credentials\r\n",
        "api_key = \"<your-search-service-api-key>\"\r\n",
        "service_name = \"<your-search-service-name>\"\r\n",
        "api_version = \"2022-04-11\"\r\n",
        "base_url = \"https://{0}.search.windows.net\".format(service_name)\r\n",
        "headers = {\"Content-Type\": \"application/json\", \"api-key\": api_key}\r\n",
        "\r\n",
        "# Define the SharePoint document library as a datasource\r\n",
        "datasource_name = \"sharepoint-datasource\"\r\n",
        "datasource_type = \"document\"\r\n",
        "credentials = {\"accessToken\": \"<your-sharepoint-access-token>\"}\r\n",
        "container = {\r\n",
        "    \"name\": \"<your-sharepoint-library-name>\",\r\n",
        "    \"query\": \"@search.isoftdeleted=false\",\r\n",
        "    \"path\": \"<your-sharepoint-folder-path>\"\r\n",
        "}\r\n",
        "connection_string = \"<your-sharepoint-connection-string>\"\r\n",
        "datasource_definition = {\r\n",
        "    \"name\": datasource_name,\r\n",
        "    \"type\": datasource_type,\r\n",
        "    \"credentials\": credentials,\r\n",
        "    \"container\": container,\r\n",
        "    \"connectionString\": connection_string\r\n",
        "}\r\n",
        "\r\n",
        "# Create the datasource using the Azure Cognitive Search REST API\r\n",
        "datasource_api_url = \"{0}/datasources?api-version={1}\".format(base_url, api_version)\r\n",
        "response = requests.post(datasource_api_url, headers=headers, data=json.dumps(datasource_definition))\r\n",
        "response.raise_for_status()\r\n",
        "\r\n",
        "# Verify that the datasource was created successfully\r\n",
        "response = requests.get(datasource_api_url, headers=headers)\r\n",
        "response.raise_for_status()\r\n",
        "datasources = response.json()[\"value\"]\r\n",
        "for datasource in datasources:\r\n",
        "    if datasource[\"name\"] == datasource_name:\r\n",
        "        print(\"Datasource {0} created successfully.\".format(datasource_name))\r\n",
        "        break\r\n",
        "else:\r\n",
        "    print(\"Error: Datasource {0} was not found.\".format(datasource_name))\r\n"
      ],
      "outputs": [],
      "execution_count": 5,
      "metadata": {
        "jupyter": {
          "source_hidden": false,
          "outputs_hidden": false
        },
        "nteract": {
          "transient": {
            "deleting": false
          }
        },
        "gather": {
          "logged": 1683560644245
        }
      }
    },
    {
      "cell_type": "code",
      "source": [
        "# 2023 05 08 MEV: this cell is the COMBINED code from ChatGPT and this notebook to define a SHAREPOINT DOCUMENT LIBRARY as an AZURE COGNITIVE SEARCH \"DATASOURCE\"...abs\r\n",
        "\r\n",
        "# DEFINE an Azure Cognitive Search DataSource to a SHAREPOINT DOCUMENT LIBRARY \r\n",
        "\r\n",
        "strDataSourceName = \"dsSP_USGSRetirementReferenceLibrary\"\r\n",
        "dictDatasourceDetails = {\r\n",
        "    \"name\": \"sp_USGSRetirementReferenceLibrary\",\r\n",
        "    \"description\": \"Demo files to demonstrate cognitive search capabilities with SharePoint Document Libraries.\",\r\n",
        "    \"type\": \"sharepoint\",\r\n",
        "    \"credentials\": {\r\n",
        "        \"connectionString\": \"SharePointOnlineEndpoint=; ApplicationId=\"\r\n",
        "        },\r\n",
        "    \"container\": {\r\n",
        "        \"name\": \"usQuery\",\r\n",
        "        \"query\": \"includeLibrary=https://avanade.sharepoint.com/:f:/r/sites/OLTIVA/Shared%20Documents/2023-CSR-retirement-documentation-mock?csf=1&web=1&e=PKxvl5\"\r\n",
        "        }\r\n",
        "}\r\n",
        "\r\n",
        "r = requests.put(AZURE_SEARCH_ENDPOINT + \"/datasources/\" + datasource_name,\r\n",
        "                 data=json.dumps(dictDatasourceDetails), headers=headers, params=params)\r\n",
        "print(r.status_code)\r\n",
        "print(r.ok)"
      ],
      "outputs": [],
      "execution_count": null,
      "metadata": {
        "jupyter": {
          "source_hidden": false,
          "outputs_hidden": false
        },
        "nteract": {
          "transient": {
            "deleting": false
          }
        }
      }
    },
    {
      "cell_type": "code",
      "source": [
        "# Create a data source\n",
        "# You should already have a blob container that contains the sample data, see app/credentials.py\n",
        "\n",
        "datasource_payload = {\n",
        "    \"name\": datasource_name,\n",
        "    \"description\": \"Demo files to demonstrate cognitive search capabilities.\",\n",
        "    \"type\": \"azureblob\",\n",
        "    \"credentials\": {\n",
        "        \"connectionString\": DATASOURCE_CONNECTION_STRING\n",
        "    },\n",
        "    \"container\": {\n",
        "        \"name\": BLOB_CONTAINER_NAME\n",
        "    }\n",
        "}\n",
        "r = requests.put(AZURE_SEARCH_ENDPOINT + \"/datasources/\" + datasource_name,\n",
        "                 data=json.dumps(datasource_payload), headers=headers, params=params)\n",
        "print(r.status_code)\n",
        "print(r.ok)"
      ],
      "outputs": [],
      "execution_count": null,
      "metadata": {
        "gather": {
          "logged": 1682772495852
        }
      }
    },
    {
      "cell_type": "code",
      "source": [
        "# If you have a 403 code, probably you have a wrong endpoint or key, you can debug by uncomment this\n",
        "# r.text"
      ],
      "outputs": [],
      "execution_count": null,
      "metadata": {
        "gather": {
          "logged": 1682772496134
        }
      }
    },
    {
      "cell_type": "markdown",
      "source": [
        "## Create Skillset - OCR, Text Splitter, Language Detection, KeyPhrase extraction, Entity Recognition\n",
        "\n",
        "We need to create now the skillset. This is a set of steps in which we use many Cognitive Services to enrich the documents by extracting information, applying OCR, translating, etc.\n",
        "\n",
        "https://learn.microsoft.com/en-us/azure/search/cognitive-search-working-with-skillsets\n",
        "\n",
        "https://learn.microsoft.com/en-us/azure/search/cognitive-search-predefined-skills\n"
      ],
      "metadata": {}
    },
    {
      "cell_type": "code",
      "source": [
        "# Create a skillset\n",
        "skillset_payload = {\n",
        "    \"name\": skillset_name,\n",
        "    \"description\": \"Extract entities, detect language and extract key-phrases\",\n",
        "    \"skills\":\n",
        "    [\n",
        "        {\n",
        "            \"@odata.type\": \"#Microsoft.Skills.Vision.OcrSkill\",\n",
        "            \"description\": \"Extract text (plain and structured) from image.\",\n",
        "            \"context\": \"/document/normalized_images/*\",\n",
        "            \"defaultLanguageCode\": \"en\",\n",
        "            \"detectOrientation\": True,\n",
        "            \"inputs\": [\n",
        "                {\n",
        "                  \"name\": \"image\",\n",
        "                  \"source\": \"/document/normalized_images/*\"\n",
        "                }\n",
        "            ],\n",
        "                \"outputs\": [\n",
        "                {\n",
        "                  \"name\": \"text\",\n",
        "                  \"targetName\" : \"images_text\"\n",
        "                }\n",
        "            ]\n",
        "        },\n",
        "        {\n",
        "            \"@odata.type\": \"#Microsoft.Skills.Text.MergeSkill\",\n",
        "            \"description\": \"Create merged_text, which includes all the textual representation of each image inserted at the right location in the content field. This is useful for PDF and other file formats that supported embedded images.\",\n",
        "            \"context\": \"/document\",\n",
        "            \"insertPreTag\": \" \",\n",
        "            \"insertPostTag\": \" \",\n",
        "            \"inputs\": [\n",
        "                {\n",
        "                  \"name\":\"text\", \"source\": \"/document/content\"\n",
        "                },\n",
        "                {\n",
        "                  \"name\": \"itemsToInsert\", \"source\": \"/document/normalized_images/*/images_text\"\n",
        "                },\n",
        "                {\n",
        "                  \"name\":\"offsets\", \"source\": \"/document/normalized_images/*/contentOffset\"\n",
        "                }\n",
        "            ],\n",
        "            \"outputs\": [\n",
        "                {\n",
        "                  \"name\": \"mergedText\", \n",
        "                  \"targetName\" : \"merged_text\"\n",
        "                }\n",
        "            ]\n",
        "        },\n",
        "        {\n",
        "            \"@odata.type\": \"#Microsoft.Skills.Text.LanguageDetectionSkill\",\n",
        "            \"context\": \"/document\",\n",
        "            \"description\": \"If you have multilingual content, adding a language code is useful for filtering\",\n",
        "            \"inputs\": [\n",
        "                {\n",
        "                  \"name\": \"text\",\n",
        "                  \"source\": \"/document/content\"\n",
        "                }\n",
        "            ],\n",
        "            \"outputs\": [\n",
        "                {\n",
        "                  \"name\": \"languageCode\",\n",
        "                  \"targetName\": \"language\"\n",
        "                }\n",
        "            ]\n",
        "        },\n",
        "        {\n",
        "            \"@odata.type\": \"#Microsoft.Skills.Text.SplitSkill\",\n",
        "            \"context\": \"/document\",\n",
        "            \"textSplitMode\": \"pages\",\n",
        "            \"maximumPageLength\": 5000, # 5000 is default\n",
        "            \"defaultLanguageCode\": \"en\",\n",
        "            \"inputs\": [\n",
        "                {\n",
        "                    \"name\": \"text\",\n",
        "                    \"source\": \"/document/content\"\n",
        "                },\n",
        "                {\n",
        "                    \"name\": \"languageCode\",\n",
        "                    \"source\": \"/document/language\"\n",
        "                }\n",
        "            ],\n",
        "            \"outputs\": [\n",
        "                {\n",
        "                    \"name\": \"textItems\",\n",
        "                    \"targetName\": \"pages\"\n",
        "                }\n",
        "            ]\n",
        "        },\n",
        "        {\n",
        "            \"@odata.type\": \"#Microsoft.Skills.Text.KeyPhraseExtractionSkill\",\n",
        "            \"context\": \"/document/pages/*\",\n",
        "            \"maxKeyPhraseCount\": 2,\n",
        "            \"defaultLanguageCode\": \"en\",\n",
        "            \"inputs\": [\n",
        "                {\n",
        "                    \"name\": \"text\", \n",
        "                    \"source\": \"/document/pages/*\"\n",
        "                },\n",
        "                {\n",
        "                    \"name\": \"languageCode\",\n",
        "                    \"source\": \"/document/language\"\n",
        "                }\n",
        "            ],\n",
        "            \"outputs\": [\n",
        "                {\n",
        "                    \"name\": \"keyPhrases\",\n",
        "                    \"targetName\": \"keyPhrases\"\n",
        "                }\n",
        "            ]\n",
        "        },\n",
        "        {\n",
        "            \"@odata.type\": \"#Microsoft.Skills.Text.V3.EntityRecognitionSkill\",\n",
        "            \"context\": \"/document/pages/*\",\n",
        "            \"categories\": [\"Person\", \"Location\", \"Organization\", \"DateTime\", \"URL\", \"Email\"],\n",
        "            \"minimumPrecision\": 0.5, \n",
        "            \"defaultLanguageCode\": \"en\",\n",
        "            \"inputs\": [\n",
        "                {\n",
        "                    \"name\": \"text\", \n",
        "                    \"source\":\"/document/pages/*\"\n",
        "                },\n",
        "                {\n",
        "                    \"name\": \"languageCode\",\n",
        "                    \"source\": \"/document/language\"\n",
        "                }\n",
        "            ],\n",
        "            \"outputs\": [\n",
        "                {\n",
        "                    \"name\": \"persons\", \n",
        "                    \"targetName\": \"persons\"\n",
        "                },\n",
        "                {\n",
        "                    \"name\": \"locations\", \n",
        "                    \"targetName\": \"locations\"\n",
        "                },\n",
        "                {\n",
        "                    \"name\": \"organizations\", \n",
        "                    \"targetName\": \"organizations\"\n",
        "                },\n",
        "                {\n",
        "                    \"name\": \"dateTimes\", \n",
        "                    \"targetName\": \"dateTimes\"\n",
        "                },\n",
        "                {\n",
        "                    \"name\": \"urls\", \n",
        "                    \"targetName\": \"urls\"\n",
        "                },\n",
        "                {\n",
        "                    \"name\": \"emails\", \n",
        "                    \"targetName\": \"emails\"\n",
        "                }\n",
        "            ]\n",
        "        }\n",
        "    ],\n",
        "    \"cognitiveServices\": {\n",
        "        \"@odata.type\": \"#Microsoft.Azure.Search.CognitiveServicesByKey\",\n",
        "        \"description\": COG_SERVICES_NAME,\n",
        "        \"key\": COG_SERVICES_KEY\n",
        "    }\n",
        "}\n",
        "\n",
        "r = requests.put(AZURE_SEARCH_ENDPOINT + \"/skillsets/\" + skillset_name,\n",
        "                 data=json.dumps(skillset_payload), headers=headers, params=params)\n",
        "print(r.status_code)\n",
        "print(r.ok)"
      ],
      "outputs": [],
      "execution_count": null,
      "metadata": {
        "gather": {
          "logged": 1682772496333
        }
      }
    },
    {
      "cell_type": "markdown",
      "source": [
        "## Create Index (actually DEFINE and INITIALIZE Index - we're NOT yet \"populating\" this index...)"
      ],
      "metadata": {}
    },
    {
      "cell_type": "markdown",
      "source": [
        "In Azure Cognitive Search, a search index is your searchable content, available to the search engine for indexing, full text search, and filtered queries. An index is defined by a schema and saved to the search service. This content exists within your search service, apart from your primary data stores, which is necessary for the millisecond response times expected in modern applications. Except for specific indexing scenarios, the search service will never connect to or query your local data.\n",
        "\n",
        "The body of the request defines the schema of the search index. A fields collection requires one field to be designated as the key. For blob type, this field is often the \"metadata_storage_path\" that uniquely identifies each file in the container.\n",
        "\n",
        "Reference:\n",
        "\n",
        "https://learn.microsoft.com/en-us/azure/search/search-what-is-an-index"
      ],
      "metadata": {}
    },
    {
      "cell_type": "code",
      "source": [
        "# Create an index\n",
        "# Queries operate over the searchable fields and filterable fields in the index\n",
        "index_payload = {\n",
        "    \"name\": index_name,\n",
        "    \"fields\": [\n",
        "        {\"name\": \"id\", \"type\": \"Edm.String\", \"key\": \"true\", \"searchable\": \"false\", \"retrievable\": \"true\", \"sortable\": \"false\", \"filterable\": \"false\",\"facetable\": \"false\"},\n",
        "        {\"name\": \"title\", \"type\": \"Edm.String\", \"searchable\": \"true\", \"retrievable\": \"true\", \"facetable\": \"false\", \"filterable\": \"true\", \"sortable\": \"false\"},\n",
        "        {\"name\": \"content\", \"type\": \"Edm.String\", \"searchable\": \"true\", \"retrievable\": \"true\", \"sortable\": \"false\", \"filterable\": \"false\",\"facetable\": \"false\"},\n",
        "        {\"name\": \"language\", \"type\": \"Edm.String\", \"searchable\": \"false\", \"retrievable\": \"true\", \"sortable\": \"true\", \"filterable\": \"true\", \"facetable\": \"true\"},\n",
        "        {\"name\": \"pages\",\"type\": \"Collection(Edm.String)\", \"searchable\": \"false\", \"retrievable\": \"true\", \"sortable\": \"false\", \"filterable\": \"false\", \"facetable\": \"false\"},\n",
        "        {\"name\": \"images_text\", \"type\": \"Collection(Edm.String)\", \"searchable\": \"true\", \"retrievable\": \"true\", \"sortable\": \"false\", \"filterable\": \"false\", \"facetable\": \"false\"},\n",
        "        {\"name\": \"keyPhrases\", \"type\": \"Collection(Edm.String)\", \"searchable\": \"true\", \"retrievable\": \"true\", \"sortable\": \"false\", \"filterable\": \"true\", \"facetable\": \"true\"},\n",
        "        {\"name\": \"persons\", \"type\": \"Collection(Edm.String)\", \"searchable\": \"true\", \"retrievable\": \"true\", \"sortable\": \"false\", \"filterable\": \"false\", \"facetable\": \"false\"},\n",
        "        {\"name\": \"locations\", \"type\": \"Collection(Edm.String)\", \"searchable\": \"true\", \"retrievable\": \"true\", \"sortable\": \"false\", \"filterable\": \"true\", \"facetable\": \"true\"},\n",
        "        {\"name\": \"organizations\", \"type\": \"Collection(Edm.String)\", \"searchable\": \"true\", \"retrievable\": \"true\", \"sortable\": \"false\", \"filterable\": \"true\", \"facetable\": \"true\"},\n",
        "        {\"name\": \"dateTimes\", \"type\": \"Collection(Edm.String)\", \"searchable\": \"true\", \"retrievable\": \"true\", \"sortable\": \"false\", \"filterable\": \"false\", \"facetable\": \"false\"},\n",
        "        {\"name\": \"urls\", \"type\": \"Collection(Edm.String)\", \"searchable\": \"false\", \"retrievable\": \"true\", \"sortable\": \"false\", \"filterable\": \"false\", \"facetable\": \"false\"},\n",
        "        {\"name\": \"emails\", \"type\": \"Collection(Edm.String)\", \"searchable\": \"true\", \"retrievable\": \"true\", \"sortable\": \"false\", \"filterable\": \"true\", \"facetable\": \"false\"},\n",
        "        {\"name\": \"metadata_storage_name\", \"type\": \"Edm.String\", \"searchable\": \"true\", \"retrievable\": \"true\", \"sortable\": \"false\", \"filterable\": \"false\", \"facetable\": \"false\"},\n",
        "        {\"name\": \"metadata_storage_path\", \"type\": \"Edm.String\", \"searchable\": \"true\", \"retrievable\": \"true\", \"sortable\": \"false\", \"filterable\": \"false\", \"facetable\": \"false\"}\n",
        "    ],\n",
        "    \"semantic\": {\n",
        "      \"configurations\": [\n",
        "        {\n",
        "          \"name\": \"my-semantic-config\",\n",
        "          \"prioritizedFields\": {\n",
        "            \"prioritizedContentFields\": [\n",
        "                {\n",
        "                    \"fieldName\": \"content\"\n",
        "                }\n",
        "                ]\n",
        "          }\n",
        "        }\n",
        "      ]\n",
        "    }\n",
        "}\n",
        "\n",
        "r = requests.put(AZURE_SEARCH_ENDPOINT + \"/indexes/\" + index_name,\n",
        "                 data=json.dumps(index_payload), headers=headers, params=params)\n",
        "print(r.status_code)\n",
        "print(r.ok)"
      ],
      "outputs": [],
      "execution_count": null,
      "metadata": {
        "gather": {
          "logged": 1682772496558
        }
      }
    },
    {
      "cell_type": "markdown",
      "source": [
        "## Create and Run the Indexer - (runs the pipeline)\n",
        "This process takes about 120 mins to load all the Arxiv CS pds"
      ],
      "metadata": {}
    },
    {
      "cell_type": "markdown",
      "source": [
        "The three components you have created thus far (data source, skillset, index) are inputs to an indexer. Creating the indexer on Azure Cognitive Search is the event that puts the entire pipeline into motion."
      ],
      "metadata": {}
    },
    {
      "cell_type": "code",
      "source": [
        "# Create an indexer\n",
        "indexer_payload = {\n",
        "    \"name\": indexer_name,\n",
        "    \"dataSourceName\": datasource_name,\n",
        "    \"targetIndexName\": index_name,\n",
        "    \"skillsetName\": skillset_name,\n",
        "    \"schedule\" : { \"interval\" : \"PT2H\"}, # How often do you want to check for new content in the data source\n",
        "    \"fieldMappings\": [\n",
        "        {\n",
        "          \"sourceFieldName\" : \"metadata_storage_path\",\n",
        "          \"targetFieldName\" : \"id\",\n",
        "          \"mappingFunction\" : { \"name\" : \"base64Encode\" }\n",
        "        },\n",
        "        {\n",
        "          \"sourceFieldName\" : \"metadata_title\",\n",
        "          \"targetFieldName\" : \"title\"\n",
        "        }\n",
        "    ],\n",
        "    \"outputFieldMappings\":\n",
        "    [\n",
        "        {\n",
        "            \"sourceFieldName\": \"/document/content\",\n",
        "            \"targetFieldName\": \"content\"\n",
        "        },\n",
        "        {\n",
        "            \"sourceFieldName\": \"/document/pages/*\",\n",
        "            \"targetFieldName\": \"pages\"\n",
        "        },\n",
        "        {\n",
        "            \"sourceFieldName\" : \"/document/normalized_images/*/images_text\",\n",
        "            \"targetFieldName\" : \"images_text\"\n",
        "        },\n",
        "        {\n",
        "            \"sourceFieldName\": \"/document/language\",\n",
        "            \"targetFieldName\": \"language\"\n",
        "        },\n",
        "        {\n",
        "            \"sourceFieldName\": \"/document/pages/*/keyPhrases/*\",\n",
        "            \"targetFieldName\": \"keyPhrases\"\n",
        "        },\n",
        "        {\n",
        "          \"sourceFieldName\" : \"/document/pages/*/persons/*\", \n",
        "          \"targetFieldName\" : \"persons\"\n",
        "        },\n",
        "        {\n",
        "          \"sourceFieldName\" : \"/document/pages/*/locations/*\", \n",
        "          \"targetFieldName\" : \"locations\"\n",
        "        },\n",
        "        {\n",
        "            \"sourceFieldName\": \"/document/pages/*/organizations/*\",\n",
        "            \"targetFieldName\": \"organizations\"\n",
        "        },\n",
        "        {\n",
        "            \"sourceFieldName\": \"/document/pages/*/dateTimes/*\",\n",
        "            \"targetFieldName\": \"dateTimes\"\n",
        "        },\n",
        "        {\n",
        "            \"sourceFieldName\": \"/document/pages/*/urls/*\",\n",
        "            \"targetFieldName\": \"urls\"\n",
        "        },\n",
        "        {\n",
        "            \"sourceFieldName\": \"/document/pages/*/emails/*\",\n",
        "            \"targetFieldName\": \"emails\"\n",
        "        }\n",
        "    ],\n",
        "    \"parameters\":\n",
        "    {\n",
        "        \"maxFailedItems\": -1,\n",
        "        \"maxFailedItemsPerBatch\": -1,\n",
        "        \"configuration\":\n",
        "        {\n",
        "            \"dataToExtract\": \"contentAndMetadata\",\n",
        "            \"imageAction\": \"generateNormalizedImages\"\n",
        "        }\n",
        "    }\n",
        "}\n",
        "\n",
        "r = requests.put(AZURE_SEARCH_ENDPOINT + \"/indexers/\" + indexer_name,\n",
        "                 data=json.dumps(indexer_payload), headers=headers, params=params)\n",
        "print(r.status_code)\n",
        "print(r.ok)"
      ],
      "outputs": [],
      "execution_count": null,
      "metadata": {
        "gather": {
          "logged": 1682772547750
        }
      }
    },
    {
      "cell_type": "code",
      "source": [
        "# Optionally, get indexer status to confirm that it's running\n",
        "r = requests.get(AZURE_SEARCH_ENDPOINT + \"/indexers/\" + indexer_name +\n",
        "                 \"/status\", headers=headers, params=params)\n",
        "# pprint(json.dumps(r.json(), indent=1))\n",
        "print(r.status_code)\n",
        "print(\"Status:\",r.json().get('lastResult').get('status'))\n",
        "print(\"Items Processed:\",r.json().get('lastResult').get('itemsProcessed'))\n",
        "print(r.ok)"
      ],
      "outputs": [],
      "execution_count": null,
      "metadata": {
        "tags": [],
        "gather": {
          "logged": 1682772547996
        }
      }
    },
    {
      "cell_type": "markdown",
      "source": [
        "**When the indexer finishes running we will have all 9.8k documents indexed in our Search Engine!.**"
      ],
      "metadata": {}
    },
    {
      "cell_type": "markdown",
      "source": [
        "# Reference\n",
        "\n",
        "- https://github.com/Azure/azure-sdk-for-python/tree/main/sdk/search/azure-search-documents/samples\n",
        "- https://learn.microsoft.com/en-us/azure/search/search-get-started-python\n",
        "- https://github.com/Azure-Samples/azure-search-python-samples/blob/main/Tutorial-AI-Enrichment/PythonTutorial-AzureSearch-AIEnrichment.ipynb"
      ],
      "metadata": {}
    }
  ],
  "metadata": {
    "kernelspec": {
      "name": "envmark22",
      "language": "python",
      "display_name": "(envMark22)"
    },
    "language_info": {
      "name": "python",
      "version": "3.11.3",
      "mimetype": "text/x-python",
      "codemirror_mode": {
        "name": "ipython",
        "version": 3
      },
      "pygments_lexer": "ipython3",
      "nbconvert_exporter": "python",
      "file_extension": ".py"
    },
    "vscode": {
      "interpreter": {
        "hash": "9ff083f0c83558f9261023d47a77b9b3eb892c62cdbe066d046abcad1a5edb5c"
      }
    },
    "microsoft": {
      "ms_spell_check": {
        "ms_spell_check_language": "en"
      },
      "host": {
        "AzureML": {
          "notebookHasBeenCompleted": true
        }
      }
    },
    "kernel_info": {
      "name": "envmark22"
    },
    "nteract": {
      "version": "nteract-front-end@1.0.0"
    }
  },
  "nbformat": 4,
  "nbformat_minor": 4
}