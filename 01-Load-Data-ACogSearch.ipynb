{
  "cells": [
    {
      "cell_type": "markdown",
      "source": [
        "# Load and Enrich multiple file types Azure Cognitive Search\n",
        "\n",
        "In this Jupyter Notebook, we create and run enrichment steps to unlock searchable content in the specified Azure blob. It performs operations over mixed content in Azure Storage, such as images and application files, using a skillset that analyzes and extracts text information that becomes searchable in Azure Cognitive Search. \n",
        "The reference sample can be found at [Tutorial: Use Python and AI to generate searchable content from Azure blobs](https://docs.microsoft.com/azure/search/cognitive-search-tutorial-blob-python).\n",
        "\n",
        "In this demo we are going to be using a public Blob Storage container that has ~9.8k Computer Science publication PDFs from the Arxiv dataset.\n",
        "https://www.kaggle.com/datasets/Cornell-University/arxiv\n",
        "\n",
        "If you want to explore the dataset, go [HERE](https://console.cloud.google.com/storage/browser/arxiv-dataset/arxiv/cs/pdf?pageState=(%22StorageObjectListTable%22:(%22f%22:%22%255B%255D%22))&prefix=&forceOnObjectsSortingFiltering=false)\n",
        "\n",
        "Although only  PDF files are used here, this can be done at a much larger scale and Azure Cognitive Search supports a range of other file formats including: Microsoft Office (DOCX/DOC, XSLX/XLS, PPTX/PPT, MSG), HTML, XML, ZIP, and plain text files (including JSON).\n",
        "\n",
        "This notebook creates the following objects on your search service:\n",
        "\n",
        "+ search index\n",
        "+ data source\n",
        "+ skillset\n",
        "+ indexer\n",
        "\n",
        "This notebook calls the [Search REST APIs](https://docs.microsoft.com/rest/api/searchservice/), but you can also use the Azure.Search.Documents client library in the Azure SDK for Python to perform the same steps. See this [Python quickstart](https://docs.microsoft.com/azure/search/search-get-started-python) for details.\n",
        "\n",
        "To run this notebook, you should have already created the Azure services on README and edit app/credentials.py with your own values. Once you've done this, you can run all cells, but the query won't return results until the indexer is finished and the search index is loaded. \n",
        "\n",
        "We recommend running each step and making sure it completes before moving on.\n",
        "\n",
        "Reference:\n",
        "\n",
        "https://learn.microsoft.com/en-us/azure/search/cognitive-search-tutorial-blob\n",
        "\n",
        "https://github.com/Azure-Samples/azure-search-python-samples/blob/main/Tutorial-AI-Enrichment/PythonTutorial-AzureSearch-AIEnrichment.ipynb"
      ],
      "metadata": {}
    },
    {
      "cell_type": "markdown",
      "source": [
        "![cog-search](./images/Cog-Search-Enrich.png)"
      ],
      "metadata": {}
    },
    {
      "cell_type": "code",
      "source": [
        "!pip list"
      ],
      "outputs": [
        {
          "output_type": "stream",
          "name": "stdout",
          "text": "Package                                 Version\r\n--------------------------------------- -------------------\r\nabsl-py                                 0.15.0\r\nadal                                    1.2.7\r\nadlfs                                   2023.1.0\r\naiohttp                                 3.8.4\r\naiohttp-cors                            0.7.0\r\naiosignal                               1.3.1\r\naltair                                  4.2.2\r\nansiwrap                                0.8.4\r\nantlr4-python3-runtime                  4.9.3\r\nanyio                                   3.6.2\r\napplicationinsights                     0.11.10\r\narch                                    4.14\r\nargcomplete                             2.0.0\r\nargon2-cffi                             21.3.0\r\nargon2-cffi-bindings                    21.2.0\r\narrow                                   1.2.3\r\narviz                                   0.11.2\r\nastroid                                 2.15.2\r\nasttokens                               2.2.1\r\nastunparse                              1.6.3\r\nasync-timeout                           4.0.2\r\nattrs                                   22.2.0\r\nauto-tqdm                               1.0.2\r\nautokeras                               1.0.16\r\nautopep8                                2.0.2\r\nazure-appconfiguration                  1.1.1\r\nazure-batch                             13.0.0\r\nazure-cli                               2.47.0\r\nazure-cli-core                          2.47.0\r\nazure-cli-telemetry                     1.0.8\r\nazure-common                            1.1.28\r\nazure-core                              1.26.3\r\nazure-cosmos                            3.2.0\r\nazure-data-tables                       12.4.0\r\nazure-datalake-store                    0.0.52\r\nazure-graphrbac                         0.61.1\r\nazure-identity                          1.7.0\r\nazure-keyvault                          1.1.0\r\nazure-keyvault-administration           4.0.0b3\r\nazure-keyvault-keys                     4.8.0b2\r\nazure-loganalytics                      0.1.1\r\nazure-mgmt-advisor                      9.0.0\r\nazure-mgmt-apimanagement                3.0.0\r\nazure-mgmt-appconfiguration             3.0.0\r\nazure-mgmt-appcontainers                2.0.0\r\nazure-mgmt-applicationinsights          1.0.0\r\nazure-mgmt-authorization                3.0.0\r\nazure-mgmt-batch                        17.0.0\r\nazure-mgmt-batchai                      7.0.0b1\r\nazure-mgmt-billing                      6.0.0\r\nazure-mgmt-botservice                   2.0.0\r\nazure-mgmt-cdn                          12.0.0\r\nazure-mgmt-cognitiveservices            13.3.0\r\nazure-mgmt-compute                      29.1.0\r\nazure-mgmt-consumption                  2.0.0\r\nazure-mgmt-containerinstance            10.1.0b1\r\nazure-mgmt-containerregistry            10.0.0\r\nazure-mgmt-containerservice             22.0.0\r\nazure-mgmt-core                         1.3.2\r\nazure-mgmt-cosmosdb                     9.0.0\r\nazure-mgmt-databoxedge                  1.0.0\r\nazure-mgmt-datalake-analytics           0.2.1\r\nazure-mgmt-datalake-nspkg               3.0.1\r\nazure-mgmt-datalake-store               0.5.0\r\nazure-mgmt-datamigration                10.0.0\r\nazure-mgmt-devtestlabs                  4.0.0\r\nazure-mgmt-dns                          8.0.0\r\nazure-mgmt-eventgrid                    10.2.0b2\r\nazure-mgmt-eventhub                     10.1.0\r\nazure-mgmt-extendedlocation             1.0.0b2\r\nazure-mgmt-hdinsight                    9.0.0\r\nazure-mgmt-imagebuilder                 1.1.0\r\nazure-mgmt-iotcentral                   10.0.0b2\r\nazure-mgmt-iothub                       2.3.0\r\nazure-mgmt-iothubprovisioningservices   1.1.0\r\nazure-mgmt-keyvault                     10.1.0\r\nazure-mgmt-kusto                        0.3.0\r\nazure-mgmt-loganalytics                 13.0.0b4\r\nazure-mgmt-managedservices              1.0.0\r\nazure-mgmt-managementgroups             1.0.0\r\nazure-mgmt-maps                         2.0.0\r\nazure-mgmt-marketplaceordering          1.1.0\r\nazure-mgmt-media                        9.0.0\r\nazure-mgmt-monitor                      5.0.1\r\nazure-mgmt-msi                          7.0.0\r\nazure-mgmt-netapp                       9.0.1\r\nazure-mgmt-network                      23.0.0\r\nazure-mgmt-nspkg                        3.0.2\r\nazure-mgmt-policyinsights               1.1.0b4\r\nazure-mgmt-privatedns                   1.0.0\r\nazure-mgmt-rdbms                        10.2.0b6\r\nazure-mgmt-recoveryservices             2.2.0\r\nazure-mgmt-recoveryservicesbackup       5.1.0\r\nazure-mgmt-redhatopenshift              1.2.0\r\nazure-mgmt-redis                        14.1.0\r\nazure-mgmt-relay                        0.1.0\r\nazure-mgmt-resource                     21.2.1\r\nazure-mgmt-search                       9.0.0\r\nazure-mgmt-security                     3.0.0\r\nazure-mgmt-servicebus                   8.2.0\r\nazure-mgmt-servicefabric                1.0.0\r\nazure-mgmt-servicefabricmanagedclusters 1.0.0\r\nazure-mgmt-servicelinker                1.2.0b1\r\nazure-mgmt-signalr                      1.1.0\r\nazure-mgmt-sql                          4.0.0b8\r\nazure-mgmt-sqlvirtualmachine            1.0.0b5\r\nazure-mgmt-storage                      20.1.0\r\nazure-mgmt-synapse                      2.1.0b5\r\nazure-mgmt-trafficmanager               1.0.0\r\nazure-mgmt-web                          7.0.0\r\nazure-multiapi-storage                  1.0.0\r\nazure-nspkg                             3.0.2\r\nazure-storage-blob                      12.13.0\r\nazure-storage-common                    1.4.2\r\nazure-storage-queue                     12.5.0\r\nazure-synapse-accesscontrol             0.5.0\r\nazure-synapse-artifacts                 0.15.0\r\nazure-synapse-managedprivateendpoints   0.4.0\r\nazure-synapse-spark                     0.2.0\r\nazureml-accel-models                    1.49.0\r\nazureml-automl-core                     1.49.0\r\nazureml-automl-dnn-nlp                  1.49.0\r\nazureml-automl-runtime                  1.49.0\r\nazureml-cli-common                      1.49.0\r\nazureml-contrib-automl-pipeline-steps   1.49.0\r\nazureml-contrib-dataset                 1.49.0\r\nazureml-contrib-fairness                1.49.0\r\nazureml-contrib-notebook                1.49.0\r\nazureml-contrib-pipeline-steps          1.49.0\r\nazureml-contrib-reinforcementlearning   1.49.0\r\nazureml-contrib-server                  1.49.0\r\nazureml-contrib-services                1.49.0\r\nazureml-core                            1.49.0\r\nazureml-datadrift                       1.49.0\r\nazureml-dataprep                        4.9.1\r\nazureml-dataprep-native                 38.0.0\r\nazureml-dataprep-rslex                  2.16.1\r\nazureml-dataset-runtime                 1.49.0\r\nazureml-defaults                        1.49.0\r\nazureml-explain-model                   1.49.0\r\nazureml-inference-server-http           0.8.0\r\nazureml-interpret                       1.49.0\r\nazureml-mlflow                          1.49.0\r\nazureml-opendatasets                    1.49.0\r\nazureml-pipeline                        1.49.0\r\nazureml-pipeline-core                   1.49.0\r\nazureml-pipeline-steps                  1.49.0\r\nazureml-responsibleai                   1.49.0\r\nazureml-sdk                             1.49.0\r\nazureml-telemetry                       1.49.0\r\nazureml-tensorboard                     1.49.0\r\nazureml-train                           1.49.0\r\nazureml-train-automl                    1.49.0\r\nazureml-train-automl-client             1.49.0\r\nazureml-train-automl-runtime            1.49.0\r\nazureml-train-core                      1.49.0\r\nazureml-train-restclients-hyperdrive    1.49.0\r\nazureml-training-tabular                1.49.0\r\nazureml-widgets                         1.49.0\r\nBabel                                   2.12.1\r\nbackcall                                0.2.0\r\nbackports.functools-lru-cache           1.6.4\r\nbackports.tempfile                      1.0\r\nbackports.weakref                       1.0.post1\r\nbackports.zoneinfo                      0.2.1\r\nbcrypt                                  4.0.1\r\nbeautifulsoup4                          4.12.1\r\nblack                                   23.3.0\r\nbleach                                  6.0.0\r\nblessed                                 1.20.0\r\nblis                                    0.4.1\r\nbokeh                                   2.4.3\r\nboto                                    2.49.0\r\nboto3                                   1.20.19\r\nbotocore                                1.23.19\r\nBottleneck                              1.3.7\r\ncachetools                              5.3.0\r\ncatalogue                               1.0.2\r\ncertifi                                 2022.9.24\r\ncffi                                    1.15.1\r\ncftime                                  1.5.1.1\r\nchardet                                 3.0.4\r\ncharset-normalizer                      3.1.0\r\nclick                                   8.1.3\r\ncloudpickle                             1.6.0\r\ncmake                                   3.26.3\r\ncolorama                                0.4.6\r\ncolorful                                0.5.5\r\ncomm                                    0.1.2\r\ncontextlib2                             21.6.0\r\ncontourpy                               1.0.5\r\nconvertdate                             2.3.2\r\ncoremltools                             2.1.0\r\ncramjam                                 2.6.2\r\ncryptography                            38.0.4\r\ncycler                                  0.11.0\r\ncymem                                   2.0.7\r\nCython                                  0.29.17\r\ndask                                    2021.6.0\r\ndask-sql                                2023.4.0\r\ndatabricks-cli                          0.17.4\r\ndataclasses                             0.6\r\ndataclasses-json                        0.5.7\r\ndatasets                                2.3.2\r\ndebugpy                                 1.6.6\r\ndecorator                               5.1.1\r\ndefusedxml                              0.7.1\r\nDeprecated                              1.2.13\r\ndice-ml                                 0.9\r\ndill                                    0.3.6\r\ndistlib                                 0.3.6\r\ndistributed                             2021.6.0\r\ndistro                                  1.8.0\r\ndm-tree                                 0.1.8\r\ndocker                                  6.0.1\r\ndocx2txt                                0.8\r\ndotnetcore2                             3.1.23\r\neconml                                  0.14.0\r\nen-core-web-sm                          2.1.0\r\nencrypted-inference                     0.9\r\nentrypoints                             0.4\r\nenvironments-utils                      1.0.9\r\nephem                                   4.1.2\r\nerroranalysis                           0.4.1\r\nexecuting                               1.2.0\r\nfabric                                  2.7.1\r\nfairlearn                               0.8.0\r\nfaiss-cpu                               1.7.3\r\nfastai                                  1.0.61\r\nfastapi                                 0.86.0\r\nfastjsonschema                          2.16.2\r\nfastparquet                             2023.2.0\r\nfastprogress                            1.0.3\r\nfbprophet                               0.7.1\r\nfilelock                                3.12.0\r\nfire                                    0.5.0\r\nflake8                                  6.0.0\r\nFlask                                   2.2.2\r\nFlask-Cors                              3.0.10\r\nflatbuffers                             23.1.21\r\nflit-core                               3.6.0\r\nfonttools                               4.25.0\r\nfqdn                                    1.5.1\r\nfrozenlist                              1.3.3\r\nfsspec                                  2023.1.0\r\nfusepy                                  3.0.1\r\nfuture                                  0.18.3\r\ngast                                    0.3.3\r\ngensim                                  3.8.3\r\ngevent                                  1.3.6\r\ngitdb                                   4.0.10\r\nGitPython                               3.1.31\r\ngoogle-api-core                         2.11.0\r\ngoogle-auth                             2.16.0\r\ngoogle-auth-oauthlib                    0.4.6\r\ngoogle-pasta                            0.2.0\r\ngoogleapis-common-protos                1.58.0\r\ngpustat                                 1.1\r\ngreenlet                                2.0.2\r\ngrpcio                                  1.51.1\r\ngunicorn                                20.1.0\r\ngym                                     0.23.1\r\ngym-notices                             0.0.8\r\nGymnasium                               0.26.3\r\ngymnasium-notices                       0.0.1\r\nh11                                     0.14.0\r\nh5py                                    3.8.0\r\nHeapDict                                1.0.1\r\nhijri-converter                         2.2.2\r\nholidays                                0.10.3\r\nhuggingface-hub                         0.13.4\r\nhumanfriendly                           10.0\r\nhumanize                                4.6.0\r\nidna                                    3.4\r\nimageio                                 2.27.0\r\nimportlib-metadata                      5.2.0\r\nimportlib-resources                     5.10.2\r\ninference-schema                        1.5.1\r\ninterpret-community                     0.28.0\r\ninterpret-core                          0.2.7\r\ninvoke                                  1.7.3\r\nipykernel                               6.8.0\r\nipython                                 8.10.0\r\nipython-genutils                        0.2.0\r\nipywidgets                              7.7.1\r\nisodate                                 0.6.1\r\nisoduration                             20.11.0\r\nisort                                   5.12.0\r\nitsdangerous                            2.1.2\r\njavaproperties                          0.5.2\r\njedi                                    0.18.0\r\njeepney                                 0.8.0\r\nJinja2                                  2.11.2\r\njmespath                                0.10.0\r\njoblib                                  1.2.0\r\njson5                                   0.9.11\r\njsondiff                                2.0.0\r\njsonpickle                              2.2.0\r\njsonpointer                             2.3\r\njsonschema                              4.17.3\r\njupyter                                 1.0.0\r\njupyter-client                          6.1.12\r\njupyter-console                         6.6.3\r\njupyter-core                            5.2.0\r\njupyter-events                          0.6.3\r\njupyter-resource-usage                  0.7.2\r\njupyter-server                          2.2.1\r\njupyter-server-mathjax                  0.2.6\r\njupyter-server-proxy                    3.2.2\r\njupyter-server-terminals                0.4.4\r\njupyterlab                              3.2.4\r\njupyterlab-nvdashboard                  0.7.0\r\njupyterlab-pygments                     0.2.2\r\njupyterlab-server                       2.22.0\r\njupyterlab-system-monitor               0.8.0\r\njupyterlab-topbar                       0.6.1\r\njupyterlab-widgets                      1.1.2\r\njupytext                                1.14.5\r\nKeras                                   2.3.1\r\nKeras-Applications                      1.0.8\r\nkeras-nightly                           2.5.0.dev2021032900\r\nKeras-Preprocessing                     1.1.2\r\nkeras-tuner                             1.3.4\r\nkeras2onnx                              1.6.0\r\nkiwisolver                              1.4.4\r\nknack                                   0.10.1\r\nkorean-lunar-calendar                   0.2.1\r\nkt-legacy                               1.0.4\r\nlangchain                               0.0.146\r\nlazy-loader                             0.2\r\nlazy-object-proxy                       1.9.0\r\nliac-arff                               2.5.0\r\nlightgbm                                3.2.1\r\nlit                                     16.0.1\r\nllvmlite                                0.38.1\r\nlocket                                  1.0.0\r\nLunarCalendar                           0.0.9\r\nlz4                                     4.3.2\r\nMarkdown                                3.4.3\r\nmarkdown-it-py                          2.2.0\r\nMarkupSafe                              2.0.1\r\nmarshmallow                             3.19.0\r\nmarshmallow-enum                        1.5.1\r\nmatplotlib                              3.2.1\r\nmatplotlib-inline                       0.1.6\r\nmccabe                                  0.6.1\r\nmdit-py-plugins                         0.3.5\r\nmdurl                                   0.1.2\r\nmistune                                 0.8.4\r\nml-wrappers                             0.4.2\r\nmlflow-skinny                           2.1.1\r\nmpmath                                  1.3.0\r\nmsal                                    1.21.0\r\nmsal-extensions                         0.3.1\r\nmsgpack                                 1.0.4\r\nmsrest                                  0.7.1\r\nmsrestazure                             0.6.4\r\nmultidict                               6.0.4\r\nmultiprocess                            0.70.14\r\nmunkres                                 1.1.4\r\nmurmurhash                              1.0.9\r\nmypy-extensions                         1.0.0\r\nnbclassic                               0.5.1\r\nnbclient                                0.7.3\r\nnbconvert                               7.3.0\r\nnbdime                                  3.1.1\r\nnbformat                                5.2.0\r\nndg-httpsclient                         0.5.1\r\nnest-asyncio                            1.5.6\r\nnetCDF4                                 1.6.2\r\nnetworkx                                3.1\r\nnltk                                    3.8.1\r\nnotebook                                6.5.2\r\nnotebook-shim                           0.2.2\r\nnumba                                   0.55.2\r\nnumexpr                                 2.8.4\r\nnumpy                                   1.24.2\r\nnvidia-cublas-cu11                      11.10.3.66\r\nnvidia-cuda-cupti-cu11                  11.7.101\r\nnvidia-cuda-nvrtc-cu11                  11.7.99\r\nnvidia-cuda-runtime-cu11                11.7.99\r\nnvidia-cudnn-cu11                       8.5.0.96\r\nnvidia-cufft-cu11                       10.9.0.58\r\nnvidia-curand-cu11                      10.2.10.91\r\nnvidia-cusolver-cu11                    11.4.0.1\r\nnvidia-cusparse-cu11                    11.7.4.91\r\nnvidia-ml-py                            11.525.112\r\nnvidia-ml-py3                           7.352.0\r\nnvidia-nccl-cu11                        2.14.3\r\nnvidia-nvtx-cu11                        11.7.91\r\noauthlib                                3.2.2\r\nonnx                                    1.12.0\r\nonnxconverter-common                    1.6.0\r\nonnxmltools                             1.4.1\r\nonnxruntime                             1.11.1\r\nopenai                                  0.27.4\r\nopenapi-schema-pydantic                 1.2.4\r\nopencensus                              0.11.1\r\nopencensus-context                      0.1.3\r\nopencensus-ext-azure                    1.1.8\r\nopencv-python-headless                  4.7.0.72\r\nopt-einsum                              3.3.0\r\npackaging                               23.1\r\npandas                                  1.5.3\r\npandas-ml                               0.6.1\r\npandocfilters                           1.5.0\r\npapermill                               1.2.1\r\nparamiko                                2.12.0\r\nparso                                   0.8.3\r\npartd                                   1.3.0\r\npathlib2                                2.3.7.post1\r\npathspec                                0.11.0\r\npatsy                                   0.5.3\r\npexpect                                 4.8.0\r\npickleshare                             0.7.5\r\nPillow                                  9.5.0\r\npip                                     20.1.1\r\npkginfo                                 1.9.6\r\npkgutil-resolve-name                    1.3.10\r\nplac                                    1.1.3\r\nplatformdirs                            3.0.0\r\nplotly                                  5.14.1\r\npluggy                                  1.0.0\r\npmdarima                                1.7.1\r\nportalocker                             2.7.0\r\npreshed                                 3.0.8\r\nprometheus-client                       0.16.0\r\nprompt-toolkit                          3.0.30\r\nproperty-cached                         1.6.4\r\nprotobuf                                3.20.3\r\npsutil                                  5.9.4\r\npsycopg2                                2.9.3\r\nptyprocess                              0.7.0\r\npure-eval                               0.2.2\r\npy-spy                                  0.3.14\r\npy4j                                    0.10.9.5\r\npyarrow                                 11.0.0\r\npyasn1                                  0.4.8\r\npyasn1-modules                          0.2.8\r\npycocotools                             2.0.2\r\npycodestyle                             2.6.0\r\npycparser                               2.21\r\npydantic                                1.10.7\r\npydeck                                  0.8.1b0\r\npydocstyle                              6.3.0\r\npyflakes                                2.2.0\r\nPyGithub                                1.58.1\r\nPygments                                2.15.1\r\nPyJWT                                   2.4.0\r\npylint                                  2.17.2\r\nPyMeeus                                 0.5.11\r\nPympler                                 1.0.1\r\nPyNaCl                                  1.5.0\r\npynvml                                  11.5.0\r\npyodbc                                  4.0.34\r\npyOpenSSL                               23.0.0\r\npyparsing                               3.0.9\r\npypdf                                   3.8.0\r\npyreadline3                             3.4.1\r\npyrsistent                              0.19.3\r\nPySocks                                 1.7.1\r\npyspark                                 3.3.1\r\npystan                                  2.19.1.1\r\npython-dateutil                         2.8.2\r\npython-json-logger                      2.0.5\r\npython-jsonrpc-server                   0.4.0\r\npython-language-server                  0.35.0\r\npython-snappy                           0.6.1\r\npytoolconfig                            1.2.5\r\npytorch-transformers                    1.0.0\r\npytz                                    2023.3\r\npytz-deprecation-shim                   0.1.0.post0\r\nPyWavelets                              1.4.1\r\nPyYAML                                  6.0\r\npyzmq                                   25.0.0\r\nqtconsole                               5.4.2\r\nQtPy                                    2.3.1\r\nQuantLib                                1.29\r\nrai-core-flask                          0.5.0\r\nraiutils                                0.3.0\r\nraiwidgets                              0.24.0\r\nray                                     2.0.0\r\nregex                                   2023.3.23\r\nrequests                                2.28.2\r\nrequests-oauthlib                       1.3.1\r\nresponses                               0.18.0\r\nresponsibleai                           0.24.0\r\nrfc3339-validator                       0.1.4\r\nrfc3986-validator                       0.1.1\r\nrich                                    13.3.4\r\nrope                                    1.7.0\r\nrsa                                     4.9\r\ns3transfer                              0.5.2\r\nsacremoses                              0.0.53\r\nscikit-image                            0.20.0\r\nscikit-learn                            1.2.2\r\nscipy                                   1.10.1\r\nscp                                     0.13.6\r\nscrapbook                               0.5.0\r\nseaborn                                 0.12.2\r\nSecretStorage                           3.3.3\r\nsemver                                  2.13.0\r\nSend2Trash                              1.8.0\r\nsentence-transformers                   2.2.2\r\nsentencepiece                           0.1.98\r\nseqeval                                 1.2.2\r\nsetuptools                              49.6.0\r\nsetuptools-git                          1.2\r\nshap                                    0.39.0\r\nsimpervisor                             0.4\r\nsix                                     1.16.0\r\nskl2onnx                                1.4.9\r\nsklearn-pandas                          1.7.0\r\nslicer                                  0.0.7\r\nsmart-open                              1.9.0\r\nsmmap                                   5.0.0\r\nsniffio                                 1.3.0\r\nsnowballstemmer                         2.2.0\r\nsortedcontainers                        2.4.0\r\nsoupsieve                               2.4\r\nspacy                                   2.2.4\r\nsparse                                  0.13.0\r\nSQLAlchemy                              1.4.47\r\nsqlparse                                0.4.3\r\nsrsly                                   1.0.6\r\nsshtunnel                               0.1.5\r\nstack-data                              0.6.2\r\nstarlette                               0.20.4\r\nstatsmodels                             0.11.0\r\nstreamlit                               1.21.0\r\nsupport-developer                       1.0.5\r\nsympy                                   1.11.1\r\ntabulate                                0.9.0\r\ntblib                                   1.7.0\r\ntenacity                                8.2.2\r\ntensorboard                             2.2.2\r\ntensorboard-data-server                 0.7.0\r\ntensorboard-plugin-wit                  1.8.1\r\ntensorboardX                            2.6\r\ntensorflow                              2.2.1\r\ntensorflow-cpu                          2.2.1\r\ntensorflow-estimator                    2.2.0\r\ntensorflow-gpu                          2.2.1\r\ntermcolor                               2.2.0\r\nterminado                               0.17.1\r\ntestpath                                0.6.0\r\ntextwrap3                               0.9.2\r\nthinc                                   7.4.0\r\nthreadpoolctl                           3.1.0\r\ntifffile                                2023.3.21\r\ntiktoken                                0.3.3\r\ntinycss2                                1.2.1\r\ntokenizers                              0.13.3\r\ntoml                                    0.10.2\r\ntomli                                   2.0.1\r\ntomlkit                                 0.11.7\r\ntoolz                                   0.12.0\r\ntorch                                   2.0.0\r\ntorch-tb-profiler                       0.4.1\r\ntorchvision                             0.15.1\r\ntornado                                 6.3.1\r\ntqdm                                    4.65.0\r\ntraitlets                               5.9.0\r\ntransformers                            4.28.1\r\ntriton                                  2.0.0\r\ntyper                                   0.7.0\r\ntyping-extensions                       4.5.0\r\ntyping-inspect                          0.8.0\r\ntzdata                                  2023.3\r\ntzlocal                                 4.3\r\nujson                                   5.7.0\r\nuri-template                            1.2.0\r\nurllib3                                 1.26.14\r\nuuid                                    1.30\r\nuvicorn                                 0.21.1\r\nvalidators                              0.20.0\r\nvirtualenv                              20.21.0\r\nwaitress                                2.1.2\r\nwasabi                                  0.10.1\r\nwatchdog                                3.0.0\r\nwcwidth                                 0.2.6\r\nwebcolors                               1.13\r\nwebencodings                            0.5.1\r\nwebsocket-client                        1.5.0\r\nwebsockets                              11.0.1\r\nWerkzeug                                2.2.2\r\nwheel                                   0.37.1\r\nwidgetsnbextension                      3.6.2\r\nwrapt                                   1.12.1\r\nxarray                                  0.20.1\r\nxgboost                                 1.3.3\r\nxmltodict                               0.13.0\r\nxxhash                                  3.2.0\r\nyapf                                    0.32.0\r\nyarl                                    1.9.1\r\nzict                                    2.2.0\r\nzipp                                    3.12.0\r\nzope.event                              4.6\r\nzope.interface                          6.0\r\n"
        }
      ],
      "execution_count": 3,
      "metadata": {
        "jupyter": {
          "source_hidden": false,
          "outputs_hidden": false
        },
        "nteract": {
          "transient": {
            "deleting": false
          }
        }
      }
    },
    {
      "cell_type": "code",
      "source": [
        "!python --version"
      ],
      "outputs": [
        {
          "output_type": "stream",
          "name": "stdout",
          "text": "Python 3.8.5\r\n"
        }
      ],
      "execution_count": 2,
      "metadata": {
        "jupyter": {
          "source_hidden": false,
          "outputs_hidden": false
        },
        "nteract": {
          "transient": {
            "deleting": false
          }
        }
      }
    },
    {
      "cell_type": "code",
      "source": [
        "import os\n",
        "import json\n",
        "import requests\n",
        "\n",
        "# Set the Data source connection string. This is where the Arxiv's 9.8k PDFs are. \n",
        "# You can change it and use your own data if you wish\n",
        "# DATASOURCE_CONNECTION_STRING = \"DefaultEndpointsProtocol=https;AccountName=demodatasetsp;AccountKey=K9rLf3hFmKN4oZunp3xIIqjlxkyqtOfcdJQgDk65cHSYAY29rvoTx2S1x2t+mJ5tv+3LRN/FES3Q+AStuqGYIg==;EndpointSuffix=core.windows.net\"\n",
        "DATASOURCE_CONNECTION_STRING = \"DefaultEndpointsProtocol=https;AccountName=ast2023mondelezchatgpt02;AccountKey=4ABIdbtn60WZNT53Un4qXqNfflLC71dti/wY+sAtA08ft74iKVqPJW2R+VAuw3sGR6MTOfYjC1lI+AStoOmIsg==;EndpointSuffix=core.windows.net\"\n",
        "# BLOB_CONTAINER_NAME = \"arxivcs\"\n",
        "BLOB_CONTAINER_NAME = \"container-content-sisa\"\n",
        "\n",
        "# Don't mess with this unless you really know what you are doing\n",
        "AZURE_SEARCH_API_VERSION = '2021-04-30-Preview'\n",
        "\n",
        "# Change these below with your own services credentials\n",
        "# AZURE_SEARCH_ENDPOINT = \"Enter your Azure Cognitive Search Endpoint ...\"\n",
        "# AZURE_SEARCH_KEY = \"Enter your Azure Cognitive Search Primary Key ...\"\n",
        "# COG_SERVICES_NAME = \"Enter your Azure Cognitive services multi-service account name ...\"\n",
        "# COG_SERVICES_KEY = \"Enter your Azure Cognitive services multi-service Key ...\"\n",
        "AZURE_SEARCH_ENDPOINT = \"https://azure-cog-search-gtekhenxlqzvu.search.windows.net\"\n",
        "AZURE_SEARCH_KEY = \"EPpDuVjPveOV8hhzKu7e17H0AB7QIzrWGqumQK87uEAzSeB9FqUZ\"\n",
        "COG_SERVICES_NAME = \"cognitive-service-gtekhenxlqzvu\"\n",
        "COG_SERVICES_KEY = \"a05ec05336bc4946bfb4ca8bea151c9a\"\n"
      ],
      "outputs": [],
      "execution_count": 5,
      "metadata": {
        "gather": {
          "logged": 1682136144616
        }
      }
    },
    {
      "cell_type": "code",
      "source": [
        "# Define the names for the data source, skillset, index and indexer\n",
        "datasource_name = \"cogsrch-datasource-files\"\n",
        "skillset_name = \"cogsrch-skillset-files\"\n",
        "index_name = \"cogsrch-index-files\"\n",
        "indexer_name = \"cogsrch-indexer-files\""
      ],
      "outputs": [],
      "execution_count": 6,
      "metadata": {
        "gather": {
          "logged": 1682136164343
        }
      }
    },
    {
      "cell_type": "code",
      "source": [
        "# Setup the Payloads header\n",
        "headers = {'Content-Type': 'application/json','api-key': AZURE_SEARCH_KEY}\n",
        "params = {'api-version': AZURE_SEARCH_API_VERSION}"
      ],
      "outputs": [],
      "execution_count": 7,
      "metadata": {
        "gather": {
          "logged": 1682136166595
        }
      }
    },
    {
      "cell_type": "markdown",
      "source": [
        "## Create Data Source (Blob container with the Arxiv CS pdfs)"
      ],
      "metadata": {}
    },
    {
      "cell_type": "code",
      "source": [
        "# Create a data source\n",
        "# You should already have a blob container that contains the sample data, see app/credentials.py\n",
        "\n",
        "datasource_payload = {\n",
        "    \"name\": datasource_name,\n",
        "    \"description\": \"Demo files to demonstrate cognitive search capabilities.\",\n",
        "    \"type\": \"azureblob\",\n",
        "    \"credentials\": {\n",
        "        \"connectionString\": DATASOURCE_CONNECTION_STRING\n",
        "    },\n",
        "    \"container\": {\n",
        "        \"name\": BLOB_CONTAINER_NAME\n",
        "    }\n",
        "}\n",
        "r = requests.put(AZURE_SEARCH_ENDPOINT + \"/datasources/\" + datasource_name,\n",
        "                 data=json.dumps(datasource_payload), headers=headers, params=params)\n",
        "print(r.status_code)\n",
        "print(r.ok)"
      ],
      "outputs": [
        {
          "output_type": "stream",
          "name": "stdout",
          "text": "204\nTrue\n"
        }
      ],
      "execution_count": 8,
      "metadata": {
        "gather": {
          "logged": 1682136171102
        }
      }
    },
    {
      "cell_type": "code",
      "source": [
        "# If you have a 403 code, probably you have a wrong endpoint or key, you can debug by uncomment this\n",
        "# r.text"
      ],
      "outputs": [],
      "execution_count": null,
      "metadata": {}
    },
    {
      "cell_type": "markdown",
      "source": [
        "## Create Skillset - OCR, Text Splitter, Language Detection, KeyPhrase extraction, Entity Recognition\n",
        "\n",
        "We need to create now the skillset. This is a set of steps in which we use many Cognitive Services to enrich the documents by extracting information, applying OCR, translating, etc.\n",
        "\n",
        "https://learn.microsoft.com/en-us/azure/search/cognitive-search-working-with-skillsets\n",
        "\n",
        "https://learn.microsoft.com/en-us/azure/search/cognitive-search-predefined-skills\n"
      ],
      "metadata": {}
    },
    {
      "cell_type": "code",
      "source": [
        "# Create a skillset\n",
        "skillset_payload = {\n",
        "    \"name\": skillset_name,\n",
        "    \"description\": \"Extract entities, detect language and extract key-phrases\",\n",
        "    \"skills\":\n",
        "    [\n",
        "        {\n",
        "            \"@odata.type\": \"#Microsoft.Skills.Vision.OcrSkill\",\n",
        "            \"description\": \"Extract text (plain and structured) from image.\",\n",
        "            \"context\": \"/document/normalized_images/*\",\n",
        "            \"defaultLanguageCode\": \"en\",\n",
        "            \"detectOrientation\": True,\n",
        "            \"inputs\": [\n",
        "                {\n",
        "                  \"name\": \"image\",\n",
        "                  \"source\": \"/document/normalized_images/*\"\n",
        "                }\n",
        "            ],\n",
        "                \"outputs\": [\n",
        "                {\n",
        "                  \"name\": \"text\",\n",
        "                  \"targetName\" : \"images_text\"\n",
        "                }\n",
        "            ]\n",
        "        },\n",
        "        {\n",
        "            \"@odata.type\": \"#Microsoft.Skills.Text.MergeSkill\",\n",
        "            \"description\": \"Create merged_text, which includes all the textual representation of each image inserted at the right location in the content field. This is useful for PDF and other file formats that supported embedded images.\",\n",
        "            \"context\": \"/document\",\n",
        "            \"insertPreTag\": \" \",\n",
        "            \"insertPostTag\": \" \",\n",
        "            \"inputs\": [\n",
        "                {\n",
        "                  \"name\":\"text\", \"source\": \"/document/content\"\n",
        "                },\n",
        "                {\n",
        "                  \"name\": \"itemsToInsert\", \"source\": \"/document/normalized_images/*/images_text\"\n",
        "                },\n",
        "                {\n",
        "                  \"name\":\"offsets\", \"source\": \"/document/normalized_images/*/contentOffset\"\n",
        "                }\n",
        "            ],\n",
        "            \"outputs\": [\n",
        "                {\n",
        "                  \"name\": \"mergedText\", \n",
        "                  \"targetName\" : \"merged_text\"\n",
        "                }\n",
        "            ]\n",
        "        },\n",
        "        {\n",
        "            \"@odata.type\": \"#Microsoft.Skills.Text.LanguageDetectionSkill\",\n",
        "            \"context\": \"/document\",\n",
        "            \"description\": \"If you have multilingual content, adding a language code is useful for filtering\",\n",
        "            \"inputs\": [\n",
        "                {\n",
        "                  \"name\": \"text\",\n",
        "                  \"source\": \"/document/content\"\n",
        "                }\n",
        "            ],\n",
        "            \"outputs\": [\n",
        "                {\n",
        "                  \"name\": \"languageCode\",\n",
        "                  \"targetName\": \"language\"\n",
        "                }\n",
        "            ]\n",
        "        },\n",
        "        {\n",
        "            \"@odata.type\": \"#Microsoft.Skills.Text.SplitSkill\",\n",
        "            \"context\": \"/document\",\n",
        "            \"textSplitMode\": \"pages\",\n",
        "            \"maximumPageLength\": 5000, # 5000 is default\n",
        "            \"defaultLanguageCode\": \"en\",\n",
        "            \"inputs\": [\n",
        "                {\n",
        "                    \"name\": \"text\",\n",
        "                    \"source\": \"/document/content\"\n",
        "                },\n",
        "                {\n",
        "                    \"name\": \"languageCode\",\n",
        "                    \"source\": \"/document/language\"\n",
        "                }\n",
        "            ],\n",
        "            \"outputs\": [\n",
        "                {\n",
        "                    \"name\": \"textItems\",\n",
        "                    \"targetName\": \"pages\"\n",
        "                }\n",
        "            ]\n",
        "        },\n",
        "        {\n",
        "            \"@odata.type\": \"#Microsoft.Skills.Text.KeyPhraseExtractionSkill\",\n",
        "            \"context\": \"/document/pages/*\",\n",
        "            \"maxKeyPhraseCount\": 2,\n",
        "            \"defaultLanguageCode\": \"en\",\n",
        "            \"inputs\": [\n",
        "                {\n",
        "                    \"name\": \"text\", \n",
        "                    \"source\": \"/document/pages/*\"\n",
        "                },\n",
        "                {\n",
        "                    \"name\": \"languageCode\",\n",
        "                    \"source\": \"/document/language\"\n",
        "                }\n",
        "            ],\n",
        "            \"outputs\": [\n",
        "                {\n",
        "                    \"name\": \"keyPhrases\",\n",
        "                    \"targetName\": \"keyPhrases\"\n",
        "                }\n",
        "            ]\n",
        "        },\n",
        "        {\n",
        "            \"@odata.type\": \"#Microsoft.Skills.Text.V3.EntityRecognitionSkill\",\n",
        "            \"context\": \"/document/pages/*\",\n",
        "            \"categories\": [\"Person\", \"Location\", \"Organization\", \"DateTime\", \"URL\", \"Email\"],\n",
        "            \"minimumPrecision\": 0.5, \n",
        "            \"defaultLanguageCode\": \"en\",\n",
        "            \"inputs\": [\n",
        "                {\n",
        "                    \"name\": \"text\", \n",
        "                    \"source\":\"/document/pages/*\"\n",
        "                },\n",
        "                {\n",
        "                    \"name\": \"languageCode\",\n",
        "                    \"source\": \"/document/language\"\n",
        "                }\n",
        "            ],\n",
        "            \"outputs\": [\n",
        "                {\n",
        "                    \"name\": \"persons\", \n",
        "                    \"targetName\": \"persons\"\n",
        "                },\n",
        "                {\n",
        "                    \"name\": \"locations\", \n",
        "                    \"targetName\": \"locations\"\n",
        "                },\n",
        "                {\n",
        "                    \"name\": \"organizations\", \n",
        "                    \"targetName\": \"organizations\"\n",
        "                },\n",
        "                {\n",
        "                    \"name\": \"dateTimes\", \n",
        "                    \"targetName\": \"dateTimes\"\n",
        "                },\n",
        "                {\n",
        "                    \"name\": \"urls\", \n",
        "                    \"targetName\": \"urls\"\n",
        "                },\n",
        "                {\n",
        "                    \"name\": \"emails\", \n",
        "                    \"targetName\": \"emails\"\n",
        "                }\n",
        "            ]\n",
        "        }\n",
        "    ],\n",
        "    \"cognitiveServices\": {\n",
        "        \"@odata.type\": \"#Microsoft.Azure.Search.CognitiveServicesByKey\",\n",
        "        \"description\": COG_SERVICES_NAME,\n",
        "        \"key\": COG_SERVICES_KEY\n",
        "    }\n",
        "}\n",
        "\n",
        "r = requests.put(AZURE_SEARCH_ENDPOINT + \"/skillsets/\" + skillset_name,\n",
        "                 data=json.dumps(skillset_payload), headers=headers, params=params)\n",
        "print(r.status_code)\n",
        "print(r.ok)"
      ],
      "outputs": [
        {
          "output_type": "stream",
          "name": "stdout",
          "text": "204\nTrue\n"
        }
      ],
      "execution_count": 9,
      "metadata": {
        "gather": {
          "logged": 1682136179024
        }
      }
    },
    {
      "cell_type": "markdown",
      "source": [
        "## Create Index"
      ],
      "metadata": {}
    },
    {
      "cell_type": "markdown",
      "source": [
        "In Azure Cognitive Search, a search index is your searchable content, available to the search engine for indexing, full text search, and filtered queries. An index is defined by a schema and saved to the search service. This content exists within your search service, apart from your primary data stores, which is necessary for the millisecond response times expected in modern applications. Except for specific indexing scenarios, the search service will never connect to or query your local data.\n",
        "\n",
        "The body of the request defines the schema of the search index. A fields collection requires one field to be designated as the key. For blob type, this field is often the \"metadata_storage_path\" that uniquely identifies each file in the container.\n",
        "\n",
        "Reference:\n",
        "\n",
        "https://learn.microsoft.com/en-us/azure/search/search-what-is-an-index"
      ],
      "metadata": {}
    },
    {
      "cell_type": "code",
      "source": [
        "# Create an index\n",
        "# Queries operate over the searchable fields and filterable fields in the index\n",
        "index_payload = {\n",
        "    \"name\": index_name,\n",
        "    \"fields\": [\n",
        "        {\"name\": \"id\", \"type\": \"Edm.String\", \"key\": \"true\", \"searchable\": \"false\", \"retrievable\": \"true\", \"sortable\": \"false\", \"filterable\": \"false\",\"facetable\": \"false\"},\n",
        "        {\"name\": \"title\", \"type\": \"Edm.String\", \"searchable\": \"true\", \"retrievable\": \"true\", \"facetable\": \"false\", \"filterable\": \"true\", \"sortable\": \"false\"},\n",
        "        {\"name\": \"content\", \"type\": \"Edm.String\", \"searchable\": \"true\", \"retrievable\": \"true\", \"sortable\": \"false\", \"filterable\": \"false\",\"facetable\": \"false\"},\n",
        "        {\"name\": \"language\", \"type\": \"Edm.String\", \"searchable\": \"false\", \"retrievable\": \"true\", \"sortable\": \"true\", \"filterable\": \"true\", \"facetable\": \"true\"},\n",
        "        {\"name\": \"pages\",\"type\": \"Collection(Edm.String)\", \"searchable\": \"false\", \"retrievable\": \"true\", \"sortable\": \"false\", \"filterable\": \"false\", \"facetable\": \"false\"},\n",
        "        {\"name\": \"images_text\", \"type\": \"Collection(Edm.String)\", \"searchable\": \"true\", \"retrievable\": \"true\", \"sortable\": \"false\", \"filterable\": \"false\", \"facetable\": \"false\"},\n",
        "        {\"name\": \"keyPhrases\", \"type\": \"Collection(Edm.String)\", \"searchable\": \"true\", \"retrievable\": \"true\", \"sortable\": \"false\", \"filterable\": \"true\", \"facetable\": \"true\"},\n",
        "        {\"name\": \"persons\", \"type\": \"Collection(Edm.String)\", \"searchable\": \"true\", \"retrievable\": \"true\", \"sortable\": \"false\", \"filterable\": \"false\", \"facetable\": \"false\"},\n",
        "        {\"name\": \"locations\", \"type\": \"Collection(Edm.String)\", \"searchable\": \"true\", \"retrievable\": \"true\", \"sortable\": \"false\", \"filterable\": \"true\", \"facetable\": \"true\"},\n",
        "        {\"name\": \"organizations\", \"type\": \"Collection(Edm.String)\", \"searchable\": \"true\", \"retrievable\": \"true\", \"sortable\": \"false\", \"filterable\": \"true\", \"facetable\": \"true\"},\n",
        "        {\"name\": \"dateTimes\", \"type\": \"Collection(Edm.String)\", \"searchable\": \"true\", \"retrievable\": \"true\", \"sortable\": \"false\", \"filterable\": \"false\", \"facetable\": \"false\"},\n",
        "        {\"name\": \"urls\", \"type\": \"Collection(Edm.String)\", \"searchable\": \"false\", \"retrievable\": \"true\", \"sortable\": \"false\", \"filterable\": \"false\", \"facetable\": \"false\"},\n",
        "        {\"name\": \"emails\", \"type\": \"Collection(Edm.String)\", \"searchable\": \"true\", \"retrievable\": \"true\", \"sortable\": \"false\", \"filterable\": \"true\", \"facetable\": \"false\"},\n",
        "        {\"name\": \"metadata_storage_name\", \"type\": \"Edm.String\", \"searchable\": \"true\", \"retrievable\": \"true\", \"sortable\": \"false\", \"filterable\": \"false\", \"facetable\": \"false\"},\n",
        "        {\"name\": \"metadata_storage_path\", \"type\": \"Edm.String\", \"searchable\": \"true\", \"retrievable\": \"true\", \"sortable\": \"false\", \"filterable\": \"false\", \"facetable\": \"false\"}\n",
        "    ],\n",
        "    \"semantic\": {\n",
        "      \"configurations\": [\n",
        "        {\n",
        "          \"name\": \"my-semantic-config\",\n",
        "          \"prioritizedFields\": {\n",
        "            \"prioritizedContentFields\": [\n",
        "                {\n",
        "                    \"fieldName\": \"content\"\n",
        "                }\n",
        "                ]\n",
        "          }\n",
        "        }\n",
        "      ]\n",
        "    }\n",
        "}\n",
        "\n",
        "r = requests.put(AZURE_SEARCH_ENDPOINT + \"/indexes/\" + index_name,\n",
        "                 data=json.dumps(index_payload), headers=headers, params=params)\n",
        "print(r.status_code)\n",
        "print(r.ok)"
      ],
      "outputs": [
        {
          "output_type": "stream",
          "name": "stdout",
          "text": "204\nTrue\n"
        }
      ],
      "execution_count": 10,
      "metadata": {
        "gather": {
          "logged": 1682136187784
        }
      }
    },
    {
      "cell_type": "markdown",
      "source": [
        "## Create and Run the Indexer - (runs the pipeline)\n",
        "This process takes about 120 mins to load all the Arxiv CS pds"
      ],
      "metadata": {}
    },
    {
      "cell_type": "markdown",
      "source": [
        "The three components you have created thus far (data source, skillset, index) are inputs to an indexer. Creating the indexer on Azure Cognitive Search is the event that puts the entire pipeline into motion."
      ],
      "metadata": {}
    },
    {
      "cell_type": "code",
      "source": [
        "# Create an indexer\n",
        "indexer_payload = {\n",
        "    \"name\": indexer_name,\n",
        "    \"dataSourceName\": datasource_name,\n",
        "    \"targetIndexName\": index_name,\n",
        "    \"skillsetName\": skillset_name,\n",
        "    \"schedule\" : { \"interval\" : \"PT2H\"}, # How often do you want to check for new content in the data source\n",
        "    \"fieldMappings\": [\n",
        "        {\n",
        "          \"sourceFieldName\" : \"metadata_storage_path\",\n",
        "          \"targetFieldName\" : \"id\",\n",
        "          \"mappingFunction\" : { \"name\" : \"base64Encode\" }\n",
        "        },\n",
        "        {\n",
        "          \"sourceFieldName\" : \"metadata_title\",\n",
        "          \"targetFieldName\" : \"title\"\n",
        "        }\n",
        "    ],\n",
        "    \"outputFieldMappings\":\n",
        "    [\n",
        "        {\n",
        "            \"sourceFieldName\": \"/document/content\",\n",
        "            \"targetFieldName\": \"content\"\n",
        "        },\n",
        "        {\n",
        "            \"sourceFieldName\": \"/document/pages/*\",\n",
        "            \"targetFieldName\": \"pages\"\n",
        "        },\n",
        "        {\n",
        "            \"sourceFieldName\" : \"/document/normalized_images/*/images_text\",\n",
        "            \"targetFieldName\" : \"images_text\"\n",
        "        },\n",
        "        {\n",
        "            \"sourceFieldName\": \"/document/language\",\n",
        "            \"targetFieldName\": \"language\"\n",
        "        },\n",
        "        {\n",
        "            \"sourceFieldName\": \"/document/pages/*/keyPhrases/*\",\n",
        "            \"targetFieldName\": \"keyPhrases\"\n",
        "        },\n",
        "        {\n",
        "          \"sourceFieldName\" : \"/document/pages/*/persons/*\", \n",
        "          \"targetFieldName\" : \"persons\"\n",
        "        },\n",
        "        {\n",
        "          \"sourceFieldName\" : \"/document/pages/*/locations/*\", \n",
        "          \"targetFieldName\" : \"locations\"\n",
        "        },\n",
        "        {\n",
        "            \"sourceFieldName\": \"/document/pages/*/organizations/*\",\n",
        "            \"targetFieldName\": \"organizations\"\n",
        "        },\n",
        "        {\n",
        "            \"sourceFieldName\": \"/document/pages/*/dateTimes/*\",\n",
        "            \"targetFieldName\": \"dateTimes\"\n",
        "        },\n",
        "        {\n",
        "            \"sourceFieldName\": \"/document/pages/*/urls/*\",\n",
        "            \"targetFieldName\": \"urls\"\n",
        "        },\n",
        "        {\n",
        "            \"sourceFieldName\": \"/document/pages/*/emails/*\",\n",
        "            \"targetFieldName\": \"emails\"\n",
        "        }\n",
        "    ],\n",
        "    \"parameters\":\n",
        "    {\n",
        "        \"maxFailedItems\": -1,\n",
        "        \"maxFailedItemsPerBatch\": -1,\n",
        "        \"configuration\":\n",
        "        {\n",
        "            \"dataToExtract\": \"contentAndMetadata\",\n",
        "            \"imageAction\": \"generateNormalizedImages\"\n",
        "        }\n",
        "    }\n",
        "}\n",
        "\n",
        "r = requests.put(AZURE_SEARCH_ENDPOINT + \"/indexers/\" + indexer_name,\n",
        "                 data=json.dumps(indexer_payload), headers=headers, params=params)\n",
        "print(r.status_code)\n",
        "print(r.ok)"
      ],
      "outputs": [
        {
          "output_type": "stream",
          "name": "stdout",
          "text": "204\nTrue\n"
        }
      ],
      "execution_count": 11,
      "metadata": {
        "gather": {
          "logged": 1682136216293
        }
      }
    },
    {
      "cell_type": "code",
      "source": [
        "# Optionally, get indexer status to confirm that it's running\n",
        "r = requests.get(AZURE_SEARCH_ENDPOINT + \"/indexers/\" + indexer_name +\n",
        "                 \"/status\", headers=headers, params=params)\n",
        "# pprint(json.dumps(r.json(), indent=1))\n",
        "print(r.status_code)\n",
        "print(\"Status:\",r.json().get('lastResult').get('status'))\n",
        "print(\"Items Processed:\",r.json().get('lastResult').get('itemsProcessed'))\n",
        "print(r.ok)"
      ],
      "outputs": [
        {
          "output_type": "stream",
          "name": "stdout",
          "text": "200\nStatus: success\nItems Processed: 0\nTrue\n"
        }
      ],
      "execution_count": 12,
      "metadata": {
        "tags": [],
        "gather": {
          "logged": 1682136328133
        }
      }
    },
    {
      "cell_type": "markdown",
      "source": [
        "**When the indexer finishes running we will have all 9.8k documents indexed in our Search Engine!.**"
      ],
      "metadata": {}
    },
    {
      "cell_type": "markdown",
      "source": [
        "# Reference\n",
        "\n",
        "- https://github.com/Azure/azure-sdk-for-python/tree/main/sdk/search/azure-search-documents/samples\n",
        "- https://learn.microsoft.com/en-us/azure/search/search-get-started-python\n",
        "- https://github.com/Azure-Samples/azure-search-python-samples/blob/main/Tutorial-AI-Enrichment/PythonTutorial-AzureSearch-AIEnrichment.ipynb"
      ],
      "metadata": {}
    }
  ],
  "metadata": {
    "kernelspec": {
      "name": "python310-sdkv2",
      "language": "python",
      "display_name": "Python 3.10 - SDK v2"
    },
    "language_info": {
      "name": "python",
      "version": "3.11.3",
      "mimetype": "text/x-python",
      "codemirror_mode": {
        "name": "ipython",
        "version": 3
      },
      "pygments_lexer": "ipython3",
      "nbconvert_exporter": "python",
      "file_extension": ".py"
    },
    "vscode": {
      "interpreter": {
        "hash": "9ff083f0c83558f9261023d47a77b9b3eb892c62cdbe066d046abcad1a5edb5c"
      }
    },
    "microsoft": {
      "ms_spell_check": {
        "ms_spell_check_language": "en"
      },
      "host": {
        "AzureML": {
          "notebookHasBeenCompleted": true
        }
      }
    },
    "kernel_info": {
      "name": "python310-sdkv2"
    },
    "nteract": {
      "version": "nteract-front-end@1.0.0"
    }
  },
  "nbformat": 4,
  "nbformat_minor": 4
}