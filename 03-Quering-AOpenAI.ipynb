{
  "cells": [
    {
      "cell_type": "markdown",
      "source": [
        "# Queries with and without Azure OpenAI"
      ],
      "metadata": {},
      "id": "d59d527f-1100-45ff-b051-5f7c9029d94d"
    },
    {
      "cell_type": "markdown",
      "source": [
        "Now that we have our Search Engine loaded **from two different data sources in two diferent indexes**, we are going to try some example queries and then use Azure OpenAI service to see if we can get even better results.\n",
        "\n",
        "The idea is that a user can ask a question about Computer Science (first datasource/index) or about Covid (second datasource/index), and the engine will respond accordingly.\n",
        "This **Multi-Index** demo, mimics the scenario where a company loads multiple type of documents of different types and about completly different topics and the search engine must respond with the most relevant results."
      ],
      "metadata": {},
      "id": "eb9a9444-dc90-4fc3-aea7-8ee918301aba"
    },
    {
      "cell_type": "markdown",
      "source": [
        "## Set up variables"
      ],
      "metadata": {},
      "id": "71f6c7e3-9037-4b1e-ae17-1deaa27b9c08"
    },
    {
      "cell_type": "code",
      "source": [
        "import os\n",
        "import urllib\n",
        "import requests\n",
        "import random\n",
        "from collections import OrderedDict\n",
        "from IPython.display import display, HTML\n",
        "from langchain.llms import AzureOpenAI\n",
        "from langchain.chat_models import AzureChatOpenAI\n",
        "from langchain.vectorstores import FAISS\n",
        "from langchain.docstore.document import Document\n",
        "from langchain.chains.question_answering import load_qa_chain\n",
        "from langchain.chains.qa_with_sources import load_qa_with_sources_chain\n",
        "from langchain.embeddings import HuggingFaceEmbeddings\n",
        "\n",
        "from app.embeddings import OpenAIEmbeddings\n",
        "from app.prompts import STUFF_PROMPT, REFINE_PROMPT, REFINE_QUESTION_PROMPT\n",
        "\n",
        "# Don't mess with this unless you really know what you are doing\n",
        "AZURE_SEARCH_API_VERSION = '2021-04-30-Preview'\n",
        "AZURE_OPENAI_API_VERSION = \"2023-03-15-preview\"\n",
        "\n",
        "# Change these below with your own services credentials\n",
        "# AZURE_SEARCH_ENDPOINT = \"Enter your Azure Cognitive Search Endpoint ...\"\n",
        "# AZURE_SEARCH_KEY = \"Enter your Azure Cognitive Search Primary Key ...\"\n",
        "# AZURE_OPENAI_ENDPOINT = \"Enter your Azure OpenAI Endpoint ...\"\n",
        "# AZURE_OPENAI_KEY = \"Enter your Azure OpenAI Key ...\"\n",
        "AZURE_SEARCH_ENDPOINT = \"https://azure-cog-search-gtekhenxlqzvu.search.windows.net\"\n",
        "AZURE_SEARCH_KEY = \"EPpDuVjPveOV8hhzKu7e17H0AB7QIzrWGqumQK87uEAzSeB9FqUZ\"\n",
        "AZURE_OPENAI_ENDPOINT = \"https://oai-2023-mondelez-chatgpt-01.openai.azure.com/\"\n",
        "AZURE_OPENAI_KEY = \"f86736ea92444e9f836b69de0512ca55\""
      ],
      "outputs": [],
      "execution_count": 50,
      "metadata": {
        "gather": {
          "logged": 1681934454177
        }
      },
      "id": "8e50b404-a061-49e7-a3c7-c6eabc98ff0f"
    },
    {
      "cell_type": "code",
      "source": [
        "# Setup the Payloads header\n",
        "headers = {'Content-Type': 'application/json','api-key': AZURE_SEARCH_KEY}"
      ],
      "outputs": [],
      "execution_count": 51,
      "metadata": {
        "gather": {
          "logged": 1681934458087
        }
      },
      "id": "2f2c22f8-79ab-405c-95e8-77a1978e53bc"
    },
    {
      "cell_type": "markdown",
      "source": [
        "## Multi-Index Search queries"
      ],
      "metadata": {},
      "id": "9297d29b-1f61-4dce-858e-bf4272172dba"
    },
    {
      "cell_type": "code",
      "source": [
        "# Index that we are going to query (from Notebook 01 and 02)\n",
        "index1_name = \"cogsrch-index-files\"\n",
        "index2_name = \"cogsrch-index-csv\"\n",
        "indexes = [index1_name, index2_name]"
      ],
      "outputs": [],
      "execution_count": 52,
      "metadata": {
        "scrolled": true,
        "tags": [],
        "gather": {
          "logged": 1681934466044
        }
      },
      "id": "5a46e2d3-298a-4708-83de-9e108b1a117a"
    },
    {
      "cell_type": "markdown",
      "source": [
        "Try questions that you think might be answered or addressed in computer science papers in 2020-2021 or that can be addressed by medical publications about COVID in 2020. Try comparing the results with the open version of ChatGPT.<br>\n",
        "The idea is that the answers using Azure OpenAI only looks at the information contained on these publications.\n",
        "\n",
        "**Example Questions you can ask**:\n",
        "- What is CLP?\n",
        "- How Markov chains work?\n",
        "- What are some examples of reinforcement learning?\n",
        "- What are the main risk factors for Covid-19?\n",
        "- What medicine reduces inflamation in the lungs?\n",
        "- Why Covid doesn't affect kids that much compared to adults?\n",
        "- Does chloroquine really works against covid?\n",
        "- tell me Use cases where I can use deep learning to solve it"
      ],
      "metadata": {},
      "id": "1c62ebb2-d7be-4bfb-b1ba-4db86c11839a"
    },
    {
      "cell_type": "code",
      "source": [
        "# QUESTION = \"What is CLP?\" \n",
        "QUESTION = \"What is a SISA?\" \n",
        "\n",
        "# This questions is interesting since CLP means something in Computer science and means something different in medical field "
      ],
      "outputs": [],
      "execution_count": 53,
      "metadata": {
        "gather": {
          "logged": 1681934470877
        }
      },
      "id": "b9b53c14-19bd-451f-aa43-7ad27ccfeead"
    },
    {
      "cell_type": "markdown",
      "source": [
        "### Search on both indexes individually and aggragate results\n",
        "\n",
        "Note: In order to standarize the indexes we are setting 4 mandatory fields to be present on each index: id, title, content, pages, language. These fields must be present in each index so that each document can be treated the same along the code."
      ],
      "metadata": {},
      "id": "f6d925eb-7f9c-429e-a62a-4c37d7702caf"
    },
    {
      "cell_type": "code",
      "source": [
        "agg_search_results = []\n",
        "\n",
        "for index in indexes:\n",
        "    url = AZURE_SEARCH_ENDPOINT + '/indexes/'+ index + '/docs'\n",
        "    url += '?api-version={}'.format(AZURE_SEARCH_API_VERSION)\n",
        "    url += '&search={}'.format(QUESTION)\n",
        "    url += '&select=*'\n",
        "    url += '&$top=10'  # You can change this to anything you need/want\n",
        "    url += '&queryLanguage=en-us'\n",
        "    url += '&queryType=semantic'\n",
        "    url += '&semanticConfiguration=my-semantic-config'\n",
        "    url += '&$count=true'\n",
        "    url += '&speller=lexicon'\n",
        "    url += '&answers=extractive|count-3'\n",
        "    url += '&captions=extractive|highlight-false'\n",
        "\n",
        "    resp = requests.get(url, headers=headers)\n",
        "    print(url)\n",
        "    print(resp.status_code)\n",
        "\n",
        "    search_results = resp.json()\n",
        "    agg_search_results.append(search_results)\n",
        "    print(\"Results Found: {}, Results Returned: {}\".format(search_results['@odata.count'], len(search_results['value'])))"
      ],
      "outputs": [
        {
          "output_type": "stream",
          "name": "stdout",
          "text": "https://azure-cog-search-gtekhenxlqzvu.search.windows.net/indexes/cogsrch-index-files/docs?api-version=2021-04-30-Preview&search=What is a SISA?&select=*&$top=10&queryLanguage=en-us&queryType=semantic&semanticConfiguration=my-semantic-config&$count=true&speller=lexicon&answers=extractive|count-3&captions=extractive|highlight-false\n200\nResults Found: 16, Results Returned: 10\nhttps://azure-cog-search-gtekhenxlqzvu.search.windows.net/indexes/cogsrch-index-csv/docs?api-version=2021-04-30-Preview&search=What is a SISA?&select=*&$top=10&queryLanguage=en-us&queryType=semantic&semanticConfiguration=my-semantic-config&$count=true&speller=lexicon&answers=extractive|count-3&captions=extractive|highlight-false\n200\nResults Found: 37660, Results Returned: 10\n"
        }
      ],
      "execution_count": 54,
      "metadata": {
        "gather": {
          "logged": 1681934475040
        }
      },
      "id": "faf2e30f-e71f-4533-ab52-27d048b80a89"
    },
    {
      "cell_type": "markdown",
      "source": [
        "### Display the top results (from both searches) based on the score"
      ],
      "metadata": {
        "tags": []
      },
      "id": "b7fd0fe5-4ee0-42e2-a920-72b93a407389"
    },
    {
      "cell_type": "code",
      "source": [
        "display(HTML('<h4>Top Answers</h4>'))\n",
        "\n",
        "for search_results in agg_search_results:\n",
        "    for result in search_results['@search.answers']:\n",
        "        if result['score'] > 0.5: # Show answers that are at least 50% of the max possible score=1\n",
        "            display(HTML('<h5>' + 'Answer - score: ' + str(result['score']) + '</h5>'))\n",
        "            display(HTML(result['text']))\n",
        "            \n",
        "print(\"\\n\\n\")\n",
        "display(HTML('<h4>Top Results</h4>'))\n",
        "\n",
        "file_content = OrderedDict()\n",
        "\n",
        "for search_results in agg_search_results:\n",
        "    for result in search_results['value']:\n",
        "        if result['@search.rerankerScore'] > 1: # Show results that are at least 25% of the max possible score=4\n",
        "            display(HTML('<h5>' + str(result['title']) + '&nbsp;&nbsp;&nbsp;&nbsp;&nbsp;&nbsp;score: '+ str(result['@search.rerankerScore']) + '</h5>'))\n",
        "            display(HTML(result['@search.captions'][0]['text']))\n",
        "            file_content[result['id']]={\n",
        "                                    \"title\": result['title'],\n",
        "                                    \"chunks\": result['pages'],\n",
        "                                    \"language\": result['language'], \n",
        "                                    \"caption\": result['@search.captions'][0]['text'],\n",
        "                                    \"score\": result['@search.rerankerScore'],\n",
        "                                    \"location\": result['metadata_storage_path']                  \n",
        "                                }"
      ],
      "outputs": [
        {
          "output_type": "display_data",
          "data": {
            "text/plain": "<IPython.core.display.HTML object>",
            "text/html": "<h4>Top Answers</h4>"
          },
          "metadata": {}
        },
        {
          "output_type": "stream",
          "name": "stdout",
          "text": "\n\n\n"
        },
        {
          "output_type": "display_data",
          "data": {
            "text/plain": "<IPython.core.display.HTML object>",
            "text/html": "<h4>Top Results</h4>"
          },
          "metadata": {}
        },
        {
          "output_type": "display_data",
          "data": {
            "text/plain": "<IPython.core.display.HTML object>",
            "text/html": "<h5>Heading goes here&nbsp;&nbsp;&nbsp;&nbsp;&nbsp;&nbsp;score: 1.9139404296875</h5>"
          },
          "metadata": {}
        },
        {
          "output_type": "display_data",
          "data": {
            "text/plain": "<IPython.core.display.HTML object>",
            "text/html": "sisa certification criteria    practitionercertifiedlead deal experienceat  least 2 deals supported $100 to $500k small to medium complexityat least 3 deals supported end-to-end > $500k min. 2 deals awarded and delivered medium complexityat least 3 deals supported end-to-end > $2m min. 2 deals awarded and delivered medium to large complexity deal …"
          },
          "metadata": {}
        },
        {
          "output_type": "display_data",
          "data": {
            "text/plain": "<IPython.core.display.HTML object>",
            "text/html": "<h5>PowerPoint Presentation&nbsp;&nbsp;&nbsp;&nbsp;&nbsp;&nbsp;score: 1.9139404296875</h5>"
          },
          "metadata": {}
        },
        {
          "output_type": "display_data",
          "data": {
            "text/plain": "<IPython.core.display.HTML object>",
            "text/html": "sisa certification criteria  practitionercertifiedlead deal experienceat  least 2 deals supported $100 to $500k small to medium complexityat least 3 deals supported end-to-end > $500k min. 2 deals awarded and delivered medium complexityat least 3 deals supported end-to-end > $2m min. 2 deals awarded and delivered medium to large complexity deal …"
          },
          "metadata": {}
        },
        {
          "output_type": "display_data",
          "data": {
            "text/plain": "<IPython.core.display.HTML object>",
            "text/html": "<h5>None&nbsp;&nbsp;&nbsp;&nbsp;&nbsp;&nbsp;score: 1.81756591796875</h5>"
          },
          "metadata": {}
        },
        {
          "output_type": "display_data",
          "data": {
            "text/plain": "<IPython.core.display.HTML object>",
            "text/html": "sisa certification criteria (updated fy20)  practitionercertifiedleadselect deal experienceat  least 2 deals supported $100 to $500k  small to medium complexityat least 3 deals supported end-to-end > $500k min. 2 deals awarded and delivered medium complexity at least 3 deals supported end-to-end > $2m min. 2 deals awarded and delivered medium to …"
          },
          "metadata": {}
        },
        {
          "output_type": "display_data",
          "data": {
            "text/plain": "<IPython.core.display.HTML object>",
            "text/html": "<h5>None&nbsp;&nbsp;&nbsp;&nbsp;&nbsp;&nbsp;score: 1.726898193359375</h5>"
          },
          "metadata": {}
        },
        {
          "output_type": "display_data",
          "data": {
            "text/plain": "<IPython.core.display.HTML object>",
            "text/html": "Here are the Certification Programs in myCredential Tool: SISA Program 1. SISA Certified - Technology Solution Architect - Systems Integration Select Certification 2. SISA Lead - Technology Solution Architect - Systems Integration Lead Certification 3."
          },
          "metadata": {}
        },
        {
          "output_type": "display_data",
          "data": {
            "text/plain": "<IPython.core.display.HTML object>",
            "text/html": "<h5>None&nbsp;&nbsp;&nbsp;&nbsp;&nbsp;&nbsp;score: 1.726898193359375</h5>"
          },
          "metadata": {}
        },
        {
          "output_type": "display_data",
          "data": {
            "text/plain": "<IPython.core.display.HTML object>",
            "text/html": "Here are the Certification Programs in myCredential Tool: SISA Program 1. SISA Certified - Technology Solution Architect - Systems Integration Select Certification 2. SISA Lead - Technology Solution Architect - Systems Integration Lead Certification 3."
          },
          "metadata": {}
        },
        {
          "output_type": "display_data",
          "data": {
            "text/plain": "<IPython.core.display.HTML object>",
            "text/html": "<h5>None&nbsp;&nbsp;&nbsp;&nbsp;&nbsp;&nbsp;score: 1.554229736328125</h5>"
          },
          "metadata": {}
        },
        {
          "output_type": "display_data",
          "data": {
            "text/plain": "<IPython.core.display.HTML object>",
            "text/html": "Reference the SI Solution Architect Certification Criteria.pptx for Leveling Guidelines  \t\tSheet 1:  SISA-Experience Form (Using this sheet is Optional)\tThe tab contains the questions found in both the Delivery and Solutioning Experience Questionnaires that you will need to complete in the \"Experience\" Component of the Accenture mycredential Tool."
          },
          "metadata": {}
        },
        {
          "output_type": "display_data",
          "data": {
            "text/plain": "<IPython.core.display.HTML object>",
            "text/html": "<h5>None&nbsp;&nbsp;&nbsp;&nbsp;&nbsp;&nbsp;score: 1.537933349609375</h5>"
          },
          "metadata": {}
        },
        {
          "output_type": "display_data",
          "data": {
            "text/plain": "<IPython.core.display.HTML object>",
            "text/html": "Overview \t\tTechnology Solution Architect Certification Avanade Preparation Guide - SI \t\tThis file has been provided to help you with obtaining your Solution Architect Certification, via the mycredential.accenture.com tool, for Certified and Lead levels."
          },
          "metadata": {}
        },
        {
          "output_type": "display_data",
          "data": {
            "text/plain": "<IPython.core.display.HTML object>",
            "text/html": "<h5>Heading goes here&nbsp;&nbsp;&nbsp;&nbsp;&nbsp;&nbsp;score: 1.524566650390625</h5>"
          },
          "metadata": {}
        },
        {
          "output_type": "display_data",
          "data": {
            "text/plain": "<IPython.core.display.HTML object>",
            "text/html": "advisory solution architect certification criteria  asa certificationcriteria deal experienceat  least 4 deals supported $100 to $500k min. 2 deals awarded and delivered small to medium complexity deal typeregional deals training completedsi solution architect workshop (ipil or vil) designated rolesolution planning professional, leveraging …"
          },
          "metadata": {}
        },
        {
          "output_type": "display_data",
          "data": {
            "text/plain": "<IPython.core.display.HTML object>",
            "text/html": "<h5>None&nbsp;&nbsp;&nbsp;&nbsp;&nbsp;&nbsp;score: 1.141448974609375</h5>"
          },
          "metadata": {}
        },
        {
          "output_type": "display_data",
          "data": {
            "text/plain": "<IPython.core.display.HTML object>",
            "text/html": "certified      o describes providing input to the contract and the proposal development      o describes experience in contributing substantially to the solution and pricing section for the deal on the rfp (sa is responsible for the costing model but has exposures to the pricing tools)      o articulates the si/accenture offerings being presented …"
          },
          "metadata": {}
        },
        {
          "output_type": "display_data",
          "data": {
            "text/plain": "<IPython.core.display.HTML object>",
            "text/html": "<h5>None&nbsp;&nbsp;&nbsp;&nbsp;&nbsp;&nbsp;score: 1.1103668212890625</h5>"
          },
          "metadata": {}
        },
        {
          "output_type": "display_data",
          "data": {
            "text/plain": "<IPython.core.display.HTML object>",
            "text/html": "certified      o describes providing input to the contract and the proposal development      o describes experience in contributing substantially to the solution and pricing section for the deal on the rfp (sa is responsible for the costing model but has exposures to the pricing tools)      o articulates the si/accenture offerings being presented …"
          },
          "metadata": {}
        },
        {
          "output_type": "display_data",
          "data": {
            "text/plain": "<IPython.core.display.HTML object>",
            "text/html": "<h5>Serum amyloid A is a predictor for prognosis of COVID-19.&nbsp;&nbsp;&nbsp;&nbsp;&nbsp;&nbsp;score: 1.6288909912109375</h5>"
          },
          "metadata": {}
        },
        {
          "output_type": "display_data",
          "data": {
            "text/plain": "<IPython.core.display.HTML object>",
            "text/html": "Serum amyloid A is a predictor for prognosis of COVID-19.. covid-19;coronavirus;pneumonia;prognosis;serum amyloid a."
          },
          "metadata": {}
        },
        {
          "output_type": "display_data",
          "data": {
            "text/plain": "<IPython.core.display.HTML object>",
            "text/html": "<h5>The Emergency Response Capacity of Plant-Based Biopharmaceutical Manufacturing-What It Is and What It Could Be.&nbsp;&nbsp;&nbsp;&nbsp;&nbsp;&nbsp;score: 1.4416122436523438</h5>"
          },
          "metadata": {}
        },
        {
          "output_type": "display_data",
          "data": {
            "text/plain": "<IPython.core.display.HTML object>",
            "text/html": "The Emergency Response Capacity of Plant-Based Biopharmaceutical Manufacturing-What It Is and What It Could Be.. plant molecular farming;rapid scalability;regulatory approval;severe acute respiratory syndrome coronavirus 2;transient expression."
          },
          "metadata": {}
        },
        {
          "output_type": "display_data",
          "data": {
            "text/plain": "<IPython.core.display.HTML object>",
            "text/html": "<h5>Severe COVID-19 is associated with elevated serum IgA and antiphospholipid IgA-antibodies.&nbsp;&nbsp;&nbsp;&nbsp;&nbsp;&nbsp;score: 1.0291633605957031</h5>"
          },
          "metadata": {}
        },
        {
          "output_type": "display_data",
          "data": {
            "text/plain": "<IPython.core.display.HTML object>",
            "text/html": "Severe COVID-19 is associated with elevated serum IgA and antiphospholipid IgA-antibodies.. covid-19;antiphospholipid syndrome;autoimmunity;immunoglobulin a;thromboembolisms. BACKGROUND: Severe coronavirus disease 2019 (COVID-19) frequently entails complications that bear similarities to autoimmune diseases."
          },
          "metadata": {}
        }
      ],
      "execution_count": 55,
      "metadata": {
        "gather": {
          "logged": 1681934481069
        }
      },
      "id": "9e938337-602d-4b61-8141-b8c92a5d91da"
    },
    {
      "cell_type": "markdown",
      "source": [
        "## Comments on Query results"
      ],
      "metadata": {},
      "id": "52a6d3e6-afb2-4fa7-96d3-69bc2373ded5"
    },
    {
      "cell_type": "markdown",
      "source": [
        "As seen above the semantic search feature of Azure Cognitive Search service is good. It gives us some answers and also the top results with the corresponding file and the paragraph where the answers is possible located.\n",
        "\n",
        "Let's see if we can make this better with Azure OpenAI"
      ],
      "metadata": {},
      "id": "84e02227-6a92-4944-86f8-6c1e38d90fe4"
    },
    {
      "cell_type": "markdown",
      "source": [
        "# Using Azure OpenAI\n",
        "\n",
        "Of course we want OpenAI to give a better answer, so we instead of sending these results, we send the content of the documents of the search result articles to OpenAI and lets GPT model give the answer.\n",
        "\n",
        "The problem is that the content of the search result files is or can be very lengthy, more than the allowed tokens allowed by the GPT Azure OpenAI models. So what we need to do is to split in chunks, vectorize and do a vector semantic search. \n",
        "\n",
        "Notice that **the documents chunks are already done in Azure Search**. file_content dictionary (created in the cell above) contains the pages (chunks) of each document. So we dont really need to chunk them again, each doc page for sure will fit on the max tokens limit of the completions LLM and of the embedding LLM.\n",
        "\n",
        "We will use a genius library call LangChain that wraps a lot of boiler plate code."
      ],
      "metadata": {},
      "id": "8df3e6d4-9a09-4b0f-b328-238738ccfaec"
    },
    {
      "cell_type": "code",
      "source": [
        "# Set the ENV variables that Langchain needs to connect to Azure OpenAI\n",
        "os.environ[\"OPENAI_API_BASE\"] = os.environ[\"AZURE_OPENAI_ENDPOINT\"] = AZURE_OPENAI_ENDPOINT\n",
        "os.environ[\"OPENAI_API_KEY\"] = os.environ[\"AZURE_OPENAI_API_KEY\"] = AZURE_OPENAI_KEY\n",
        "os.environ[\"OPENAI_API_VERSION\"] = os.environ[\"AZURE_OPENAI_API_VERSION\"] = AZURE_OPENAI_API_VERSION"
      ],
      "outputs": [],
      "execution_count": 56,
      "metadata": {
        "gather": {
          "logged": 1681934495271
        }
      },
      "id": "eea62a7d-7e0e-4a93-a89c-20c96560c665"
    },
    {
      "cell_type": "code",
      "source": [
        "docs = []\n",
        "for key,value in file_content.items():\n",
        "    for page in value[\"chunks\"]:\n",
        "        docs.append(Document(page_content=page, metadata={\"source\": value[\"location\"]}))\n",
        "        \n",
        "print(\"Number of chunks:\",len(docs))"
      ],
      "outputs": [
        {
          "output_type": "stream",
          "name": "stdout",
          "text": "Number of chunks: 25\n"
        }
      ],
      "execution_count": 57,
      "metadata": {
        "gather": {
          "logged": 1681934498214
        }
      },
      "id": "8f7b41d2-65b0-4058-8a46-c76cf6960720"
    },
    {
      "cell_type": "markdown",
      "source": [
        "Depending of the amount of chunks/pages returned from the search result, which is very related to the size of the documents returned\n",
        "we pick the embedding model that give us fast results. <br>The logic is, if there is less than 50 chunks (of 5000 chars each) to vectorize then we use \n",
        "OpenAI models which currently don't offer batch processing, but if there is more than 50 chunks we use a BERT based in-memory model that processes in batches and in parallel (it is recommended a VM of at least 4 cores).\n",
        "\n",
        "For more information on in-memory models that you can use, see [HERE](https://www.sbert.net/docs/pretrained_models.html)"
      ],
      "metadata": {},
      "id": "c5403dee-a4c4-420c-9819-68151d973695"
    },
    {
      "cell_type": "code",
      "source": [
        "# Select the Embedder model\n",
        "if len(docs) < 50:\n",
        "    # OpenAI models are accurate but slower\n",
        "    embedder = OpenAIEmbeddings(document_model_name=\"text-embedding-ada-002\", query_model_name=\"text-embedding-ada-002\") \n",
        "else:\n",
        "    # Bert based models are faster (3x-10x) but not as great in accuracy as OpenAI models\n",
        "    # Since this repo supports Multiple languages we need to use a multilingual model. \n",
        "    # But if English only is the requirement, use \"multi-qa-MiniLM-L6-cos-v1\"\n",
        "    # The fastest english model is \"all-MiniLM-L12-v2\"\n",
        "    if random.choice(list(file_content.items()))[1][\"language\"] == \"en\":\n",
        "        embedder = HuggingFaceEmbeddings(model_name = 'multi-qa-MiniLM-L6-cos-v1')\n",
        "    else:\n",
        "        embedder = HuggingFaceEmbeddings(model_name = 'distiluse-base-multilingual-cased-v2')"
      ],
      "outputs": [],
      "execution_count": 58,
      "metadata": {
        "gather": {
          "logged": 1681934572550
        }
      },
      "id": "a03f1f10-32b0-4c1e-8a0e-eee1b1d29ce7"
    },
    {
      "cell_type": "code",
      "source": [
        "embedder"
      ],
      "outputs": [
        {
          "output_type": "execute_result",
          "execution_count": 59,
          "data": {
            "text/plain": "OpenAIEmbeddings(client=<class 'openai.api_resources.embedding.Embedding'>, document_model_name='text-embedding-ada-002', query_model_name='text-embedding-ada-002', openai_api_key=None)"
          },
          "metadata": {}
        }
      ],
      "execution_count": 59,
      "metadata": {
        "gather": {
          "logged": 1681934580415
        }
      },
      "id": "a5cc7ae5-6fe9-4fd8-992d-0507297387ea"
    },
    {
      "cell_type": "code",
      "source": [
        "%%time\n",
        "if(len(docs)>1):\n",
        "    db = FAISS.from_documents(docs, embedder)\n",
        "else:\n",
        "    print(\"No results Found\")"
      ],
      "outputs": [
        {
          "output_type": "stream",
          "name": "stdout",
          "text": "CPU times: user 123 ms, sys: 11.7 ms, total: 135 ms\nWall time: 2.61 s\n"
        }
      ],
      "execution_count": 60,
      "metadata": {},
      "id": "3315033a-4a08-4db5-8f5c-fa0a99892dc4"
    },
    {
      "cell_type": "code",
      "source": [
        "docs_db = db.similarity_search(QUESTION, k=4)"
      ],
      "outputs": [],
      "execution_count": 61,
      "metadata": {
        "gather": {
          "logged": 1681934632809
        }
      },
      "id": "57429335-34d3-458a-b7c9-52482a0936d5"
    },
    {
      "cell_type": "markdown",
      "source": [
        "At this point we already have the most similar chunks (in order of relevance given by the in-memory vector cosine similarity search) in docs_db"
      ],
      "metadata": {},
      "id": "17247488-7d14-4178-9add-31eb1afcbcbe"
    },
    {
      "cell_type": "markdown",
      "source": [
        "### Now we use GPT-3.5(Turbo) using map-reduce chain in order to stay within the limits of the allow model's token count\n",
        "\n",
        "for more information on the different types of prompts for these chains please see here:\n",
        "\n",
        "https://github.com/hwchase17/langchain/tree/master/langchain/chains/question_answering"
      ],
      "metadata": {},
      "id": "793c4788-715e-44dd-b2b8-3f1c3201e4e0"
    },
    {
      "cell_type": "code",
      "source": [
        "# Make sure you have the deployment named \"gpt-35-turbo\" for the model \"gpt-35-turbo (0301)\". \n",
        "# Use \"gpt-4\" if you have it available.\n",
        "llm = AzureChatOpenAI(deployment_name=\"gpt-35-turbo\", temperature=0.9, max_tokens=500)\n",
        "chain = load_qa_with_sources_chain(llm, chain_type=\"map_reduce\", return_intermediate_steps=True)"
      ],
      "outputs": [],
      "execution_count": 62,
      "metadata": {
        "gather": {
          "logged": 1681934678361
        }
      },
      "id": "634f5bd8-0d56-47b8-84fd-fe9b678bfc32"
    },
    {
      "cell_type": "code",
      "source": [
        "%%time\n",
        "response = chain({\"input_documents\": docs_db, \"question\": QUESTION}, return_only_outputs=True)"
      ],
      "outputs": [
        {
          "output_type": "stream",
          "name": "stdout",
          "text": "CPU times: user 488 ms, sys: 55 ms, total: 543 ms\nWall time: 7.24 s\n"
        }
      ],
      "execution_count": 63,
      "metadata": {},
      "id": "a1e619b8-1dcf-431b-8aad-f1696a09c2ac"
    },
    {
      "cell_type": "code",
      "source": [
        "answer = response['output_text']\n",
        "\n",
        "display(HTML('<h4>Azure OpenAI ChatGPT Answer:</h4>'))\n",
        "print(answer.split(\"SOURCES:\")[0])\n",
        "#20230419 Mark Vogt (Avanade) ADDED exception-handling in case \"answer\" comes back with NO \"SOURCES:\"...\n",
        "if(answer.find(\"SOURCES:\") < 0):\n",
        "    print(\"Sources: none\")\n",
        "else: \n",
        "    print(\"Sources:\")\n",
        "    print(answer.split(\"SOURCES:\")[1].replace(\" \",\"\").split(\",\"))"
      ],
      "outputs": [
        {
          "output_type": "display_data",
          "data": {
            "text/plain": "<IPython.core.display.HTML object>",
            "text/html": "<h4>Azure OpenAI ChatGPT Answer:</h4>"
          },
          "metadata": {}
        },
        {
          "output_type": "stream",
          "name": "stdout",
          "text": "A SISA is a Technology Solution Architect for Systems Integration Select Certification program, which has three levels of certification.\nSources: none\n"
        }
      ],
      "execution_count": 73,
      "metadata": {
        "gather": {
          "logged": 1681937300624
        }
      },
      "id": "8cddb1cb-a4a0-4e2f-9f0c-4216b0f232b2"
    },
    {
      "cell_type": "code",
      "source": [
        "response"
      ],
      "outputs": [
        {
          "output_type": "execute_result",
          "execution_count": 70,
          "data": {
            "text/plain": "{'intermediate_steps': ['A SISA is a Technology Solution Architect for Systems Integration Select Certification program. There are three levels of certification within the SISA program: SISA Certified, SISA Lead, and SISA Select.',\n  'A SISA is a certification program for Technology Solution Architects in Systems Integration.',\n  'The given portion of the document provides information on SISA Certification Criteria, but does not define what a SISA is.',\n  'The Avanade Technology Solution Architect Certification Preparation Guide includes information for obtaining the Solution Architect Certification, specifically for the SISA Certified and Lead levels. The SI Solution Architect Certification Criteria.pptx provides leveling guidelines. The SISA-Experience Form and SISA-Interview Prep Guide are both included to assist with preparation for the certification process. The SISA-Experience Form includes questions related to delivery and solutioning experience, with guidance provided for relevant Avanade terminology. There is no specific information provided regarding what a SISA is.'],\n 'output_text': 'A SISA is a Technology Solution Architect for Systems Integration Select Certification program, which has three levels of certification.'}"
          },
          "metadata": {}
        }
      ],
      "execution_count": 70,
      "metadata": {
        "jupyter": {
          "source_hidden": false,
          "outputs_hidden": false
        },
        "nteract": {
          "transient": {
            "deleting": false
          }
        },
        "gather": {
          "logged": 1681936403628
        }
      },
      "id": "105c1733-e5b5-4eca-9562-2dafdb60c2b8"
    },
    {
      "cell_type": "code",
      "source": [
        "answer"
      ],
      "outputs": [
        {
          "output_type": "execute_result",
          "execution_count": 65,
          "data": {
            "text/plain": "'A SISA is a Technology Solution Architect for Systems Integration Select Certification program, which has three levels of certification.'"
          },
          "metadata": {}
        }
      ],
      "execution_count": 65,
      "metadata": {
        "jupyter": {
          "source_hidden": false,
          "outputs_hidden": false
        },
        "nteract": {
          "transient": {
            "deleting": false
          }
        },
        "gather": {
          "logged": 1681935760524
        }
      },
      "id": "957643d6-6f90-477c-a774-8720e3340d1c"
    },
    {
      "cell_type": "code",
      "source": [
        "# Uncomment if you want to inspect the results from each top similar chunk (k=4 by default)\n",
        "response['intermediate_steps']"
      ],
      "outputs": [
        {
          "output_type": "execute_result",
          "execution_count": 74,
          "data": {
            "text/plain": "['A SISA is a Technology Solution Architect for Systems Integration Select Certification program. There are three levels of certification within the SISA program: SISA Certified, SISA Lead, and SISA Select.',\n 'A SISA is a certification program for Technology Solution Architects in Systems Integration.',\n 'The given portion of the document provides information on SISA Certification Criteria, but does not define what a SISA is.',\n 'The Avanade Technology Solution Architect Certification Preparation Guide includes information for obtaining the Solution Architect Certification, specifically for the SISA Certified and Lead levels. The SI Solution Architect Certification Criteria.pptx provides leveling guidelines. The SISA-Experience Form and SISA-Interview Prep Guide are both included to assist with preparation for the certification process. The SISA-Experience Form includes questions related to delivery and solutioning experience, with guidance provided for relevant Avanade terminology. There is no specific information provided regarding what a SISA is.']"
          },
          "metadata": {}
        }
      ],
      "execution_count": 74,
      "metadata": {
        "gather": {
          "logged": 1681937402092
        }
      },
      "id": "11345374-6420-4b36-b061-795d2a804c85"
    },
    {
      "cell_type": "markdown",
      "source": [
        "# Summary\n",
        "##### This answer is way better than taking just the result from Azure Cognitive Search. So the summary is:\n",
        "- Azure Cognitive Search give us the top results (context)\n",
        "- Azure OpenAI takes these results and understand the content and uses it as context to give the best answer\n",
        "- Best of two worlds!"
      ],
      "metadata": {},
      "id": "f347373a-a5be-473d-b64e-0f6b6dbcd0e0"
    }
  ],
  "metadata": {
    "kernelspec": {
      "name": "python38-azureml",
      "language": "python",
      "display_name": "Python 3.8 - AzureML"
    },
    "language_info": {
      "name": "python",
      "version": "3.8.5",
      "mimetype": "text/x-python",
      "codemirror_mode": {
        "name": "ipython",
        "version": 3
      },
      "pygments_lexer": "ipython3",
      "nbconvert_exporter": "python",
      "file_extension": ".py"
    },
    "microsoft": {
      "ms_spell_check": {
        "ms_spell_check_language": "en"
      },
      "host": {
        "AzureML": {
          "notebookHasBeenCompleted": true
        }
      }
    },
    "kernel_info": {
      "name": "python38-azureml"
    },
    "nteract": {
      "version": "nteract-front-end@1.0.0"
    }
  },
  "nbformat": 4,
  "nbformat_minor": 5
}