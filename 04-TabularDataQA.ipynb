{
  "cells": [
    {
      "cell_type": "markdown",
      "source": [
        "# Q&A against Tabular Data from a CSV file"
      ],
      "metadata": {},
      "id": "45b4b5a4-96b0-4935-b890-8eb1c3d678ad"
    },
    {
      "cell_type": "markdown",
      "source": [
        "To really have a Smart Search Engine or Virtual assistant that can answer any question about your corporate documents, this \"engine\" must understand tabular data, aka, sources with tables, rows and columns with numbers. \n",
        "This is a different problem that simply looking for the top most similar results.  The concept of indexing, bringing top results, embedding, doing a cosine semantic search and summarize an answer, doesn't really apply to this problem.\n",
        "We are dealing now with sources with Tables in which each row and column are related to each other, and in order to answer a question, all of the data is needed, not just top results.\n",
        "\n",
        "In this notebook, the goal is to show how to deal with this kind of use cases. To continue with our Covid-19 theme, we will be using an open dataset called [\"Covid Tracking Project\"](https://learn.microsoft.com/en-us/azure/open-datasets/dataset-covid-tracking?tabs=azure-storage). The COVID Tracking Project dataset is an up-to-date CSV file that provides the latest numbers on tests, confirmed cases, hospitalizations, and patient outcomes from every US state and territory.\n",
        "\n",
        "Imagine that many documents on a data lake are tabular data, or that your use case is to ask questions in natural language to a LLM model and this model needs to get the context from a CSV file or even a SQL Database in order to answer the question. A GPT Smart Search Engine, must understand how to deal with this sources, understand the data and answer acoordingly."
      ],
      "metadata": {},
      "id": "9697d091-a0fb-4aac-9761-36dbfbebae29"
    },
    {
      "cell_type": "code",
      "source": [
        "import os\n",
        "import pandas as pd\n",
        "from langchain.llms import AzureOpenAI\n",
        "from langchain.chat_models import AzureChatOpenAI\n",
        "from langchain.agents import create_pandas_dataframe_agent\n",
        "from langchain.agents import create_csv_agent\n",
        "\n",
        "# Don't mess with this unless you really know what you are doing\n",
        "AZURE_OPENAI_API_VERSION = \"2023-03-15-preview\"\n",
        "\n",
        "# Change these below with your own services credentials\n",
        "# AZURE_OPENAI_ENDPOINT = \"Enter your Azure OpenAI Endpoint ...\"\n",
        "# AZURE_OPENAI_KEY = \"Enter your Azure OpenAI Key ...\"\n",
        "AZURE_OPENAI_ENDPOINT = \"https://oai-2023-mondelez-chatgpt-01.openai.azure.com/\"\n",
        "AZURE_OPENAI_KEY = \"f86736ea92444e9f836b69de0512ca55\""
      ],
      "outputs": [],
      "execution_count": null,
      "metadata": {
        "gather": {
          "logged": 1682001639942
        }
      },
      "id": "4ccab2f5-f8d3-4eb5-b1a7-961388d33d3d"
    },
    {
      "cell_type": "code",
      "source": [
        "# Set the ENV variables that Langchain needs to connect to Azure OpenAI\n",
        "os.environ[\"OPENAI_API_BASE\"] = os.environ[\"AZURE_OPENAI_ENDPOINT\"] = AZURE_OPENAI_ENDPOINT\n",
        "os.environ[\"OPENAI_API_KEY\"] = os.environ[\"AZURE_OPENAI_API_KEY\"] = AZURE_OPENAI_KEY\n",
        "os.environ[\"OPENAI_API_VERSION\"] = os.environ[\"AZURE_OPENAI_API_VERSION\"] = AZURE_OPENAI_API_VERSION"
      ],
      "outputs": [],
      "execution_count": null,
      "metadata": {
        "gather": {
          "logged": 1681937786254
        }
      },
      "id": "81a497a8-d2f4-40ef-bdd2-389c44c41a2b"
    },
    {
      "cell_type": "markdown",
      "source": [
        "## Download the dataset and load it into Pandas Dataframe"
      ],
      "metadata": {},
      "id": "dd23c284-a569-4e9f-9c77-62da216be92b"
    },
    {
      "cell_type": "code",
      "source": [
        "file_url = \"https://pandemicdatalake.blob.core.windows.net/public/curated/covid-19/covid_tracking/latest/covid_tracking.csv\"\n",
        "df = pd.read_csv(file_url)\n",
        "print(\"Rows and Columns:\",df.shape)\n",
        "df.head()"
      ],
      "outputs": [],
      "execution_count": null,
      "metadata": {
        "gather": {
          "logged": 1681937789979
        }
      },
      "id": "54c0f7eb-0ec2-44aa-b02b-8dbe1b122b28"
    },
    {
      "cell_type": "code",
      "source": [
        "df.columns"
      ],
      "outputs": [],
      "execution_count": null,
      "metadata": {
        "gather": {
          "logged": 1681937794884
        }
      },
      "id": "d703e877-0a85-43c5-ab35-8ecbe72c44c8"
    },
    {
      "cell_type": "markdown",
      "source": [
        "## Load our LLM and create our MRKL Agent"
      ],
      "metadata": {},
      "id": "21f25d06-03c3-4f73-bb9a-5a43777d1bf5"
    },
    {
      "cell_type": "markdown",
      "source": [
        "The implementation of Agents is inspired by two papers: the [MRKL Systems](https://arxiv.org/abs/2205.00445) paper (pronounced ‘miracle’ 😉) and the [ReAct](https://arxiv.org/abs/2210.03629) paper.\n",
        "\n",
        "Agents are a way to leverage the ability of LLMs to understand and act on prompts. In essence, an Agent is an LLM that has been given a very clever initial prompt. The prompt tells the LLM to break down the process of answering a complex query into a sequence of steps that are resolved one at a time.\n",
        "\n",
        "Agents become really cool when we combine them with ‘experts’, introduced in the MRKL paper. Simple example: an Agent might not have the inherent capability to reliably perform mathematical calculations by itself. However, we can introduce an expert - in this case a calculator, an expert at mathematical calculations. Now, when we need to perform a calculation, the Agent can call in the expert rather than trying to predict the result itself. This is actually the concept behind [ChatGPT Pluggins](https://openai.com/blog/chatgpt-plugins).\n",
        "\n",
        "In our case, in order to solve the problem \"How do I ask questions to a tabular CSV file\", we need this REACT/MRKL approach, in which we need to instruct the LLM that it needs to use an 'expert/tool' in order to read/load/understand/interact with a CSV tabular file.\n",
        "\n",
        "OpenAI opened the world to a whole new concept. Libraries are being created fast and furious. We will be using [LangChain](https://docs.langchain.com/docs/) as our library to solve this problem, however there are others that we recommend: [HayStack](https://haystack.deepset.ai/) and [Semantic Kernel](https://learn.microsoft.com/en-us/semantic-kernel/whatissk)."
      ],
      "metadata": {},
      "id": "87d4c5dd-8d4b-4a7b-a108-99486582530d"
    },
    {
      "cell_type": "code",
      "source": [
        "# First we load our LLM: GPT-4 (you are welcome to try GPT-3.5-Turbo. \n",
        "# You will see that it does not have the cognitive capabilities to become a smart agent)\n",
        "\n",
        "# llm = AzureChatOpenAI(deployment_name=\"gpt-4\", temperature=0.5, max_tokens=500)\n",
        "llm = AzureChatOpenAI(deployment_name=\"gpt-35-turbo\", temperature=0.5, max_tokens=500)"
      ],
      "outputs": [],
      "execution_count": null,
      "metadata": {
        "gather": {
          "logged": 1681937862057
        }
      },
      "id": "46238c2e-2eb4-4fc3-8472-b894380a5063"
    },
    {
      "cell_type": "code",
      "source": [
        "# Now we need our agent and our expert/tool.  \n",
        "# LangChain has created an out-of-the-box agents that we can use to solve our Q&A to CSV tabular data file problem. \n",
        "agent = create_csv_agent(llm, file_url, verbose=True)"
      ],
      "outputs": [],
      "execution_count": null,
      "metadata": {
        "gather": {
          "logged": 1681937865698
        }
      },
      "id": "0b5a5c3f-41c7-47e9-84d4-6e4c068560d6"
    },
    {
      "cell_type": "code",
      "source": [
        "# Natural Language question (query) + a Suffix to format the answer the way we like\n",
        "query_str = 'How may patients were on ventilator last month in the east coast?'\n",
        "suffix = '. ALWAYS before giving the Final Answer, reflect on the answer and ask yourself if it answers correctly the original question. If you are not sure, try another method. \\n If the two runs does not give the same result, reflect again two more times until you have two runs that have the same result. If you still cannot arrive to a consistent result, say that you are not sure of the answer. But, if you are sure of the correct answer, create a beautiful and thorough response. ALWAYS, as part of your final answer, explain how you got to the answer on a section that starts with: \"\\n\\nExplanation:\\n.\"'"
      ],
      "outputs": [],
      "execution_count": null,
      "metadata": {},
      "id": "8e0f130f-855f-4844-9987-197f8f9675df"
    },
    {
      "cell_type": "markdown",
      "source": [
        "## Enjoy the response and the power of GPT-4 + REACT/MKRL approach"
      ],
      "metadata": {},
      "id": "7d0220e2-9b3f-467e-9843-7a27a09fd39b"
    },
    {
      "cell_type": "code",
      "source": [
        "# We are doing a for loop to retry N times. This is because: \n",
        "# 1) GPT-4 is still in preview and the API is being very throttled and \n",
        "# 2) Because the LLM not always gives the answer on the exact format the agent needs and hence cannot be parsed\n",
        "\n",
        "for i in range(5):\n",
        "    try:\n",
        "        response = agent.run(query_str + suffix) \n",
        "        break\n",
        "    except:\n",
        "        response = \"Error too many failed retries\"\n",
        "        continue  \n",
        "        \n",
        "print(response)"
      ],
      "outputs": [],
      "execution_count": null,
      "metadata": {},
      "id": "d6eb9727-036f-4a43-a796-7702183fc57d"
    },
    {
      "cell_type": "markdown",
      "source": [
        "# Summary"
      ],
      "metadata": {},
      "id": "073913d5-321b-4c56-9c66-649266cf6280"
    },
    {
      "cell_type": "markdown",
      "source": [
        "So, we just solved our problem on how to ask questions in natural language to our Tabular data hosted on a CSV File.\n",
        "With this approach you can see then that it is NOT necessary to make a dump of a database data into a CSV file and index that on a Search Engine, you don't even need to use the above approach and deal with a CSV data dump file. With the Agents framework, the best engineering decision is to interact directly with the data source API without the need to replicate the data in order to ask questions to it. Remember, GPT-4 can do SQL very well. \n",
        "\n",
        "Just think about this: if GPT-4 can do the above, imagine what GPT-5/6/7/8 will be able to do.\n",
        "\n",
        "This is implemented in the App of this repo as well, where you will be able to upload any tabular CSV you like and ask questions to it"
      ],
      "metadata": {},
      "id": "41108384-c132-45fc-92e4-31dc1bcf00c0"
    },
    {
      "cell_type": "markdown",
      "source": [
        "# Reference\n",
        "\n",
        "- https://haystack.deepset.ai/blog/introducing-haystack-agents\n",
        "- https://python.langchain.com/en/latest/modules/agents/agents.html\n",
        "- https://tsmatz.wordpress.com/2023/03/07/react-with-openai-gpt-and-langchain/\n",
        "- https://medium.com/@meghanheintz/intro-to-langchain-llm-templates-and-agents-8793f30f1837"
      ],
      "metadata": {},
      "id": "69e074a0-4f46-40c7-9567-7058ba103f5b"
    },
    {
      "cell_type": "code",
      "source": [],
      "outputs": [],
      "execution_count": null,
      "metadata": {},
      "id": "21e4f00a-c0f0-4339-b2a6-10de326023ba"
    }
  ],
  "metadata": {
    "kernelspec": {
      "name": "python310-sdkv2",
      "language": "python",
      "display_name": "Python 3.10 - SDK v2"
    },
    "language_info": {
      "name": "python",
      "version": "3.10.10",
      "mimetype": "text/x-python",
      "codemirror_mode": {
        "name": "ipython",
        "version": 3
      },
      "pygments_lexer": "ipython3",
      "nbconvert_exporter": "python",
      "file_extension": ".py"
    },
    "microsoft": {
      "ms_spell_check": {
        "ms_spell_check_language": "en"
      },
      "host": {
        "AzureML": {
          "notebookHasBeenCompleted": true
        }
      }
    },
    "kernel_info": {
      "name": "python310-sdkv2"
    },
    "nteract": {
      "version": "nteract-front-end@1.0.0"
    }
  },
  "nbformat": 4,
  "nbformat_minor": 5
}