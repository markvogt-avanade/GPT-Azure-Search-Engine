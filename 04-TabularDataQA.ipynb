{
  "cells": [
    {
      "cell_type": "markdown",
      "source": [
        "# Q&A against Tabular Data from a CSV file"
      ],
      "metadata": {},
      "id": "45b4b5a4-96b0-4935-b890-8eb1c3d678ad"
    },
    {
      "cell_type": "markdown",
      "source": [
        "To really have a Smart Search Engine or Virtual assistant that can answer any question about your corporate documents, this \"engine\" must understand tabular data, aka, sources with tables, rows and columns with numbers. \n",
        "This is a different problem that simply looking for the top most similar results.  The concept of indexing, bringing top results, embedding, doing a cosine semantic search and summarize an answer, doesn't really apply to this problem.\n",
        "We are dealing now with sources with Tables in which each row and column are related to each other, and in order to answer a question, all of the data is needed, not just top results.\n",
        "\n",
        "In this notebook, the goal is to show how to deal with this kind of use cases. To continue with our Covid-19 theme, we will be using an open dataset called [\"Covid Tracking Project\"](https://learn.microsoft.com/en-us/azure/open-datasets/dataset-covid-tracking?tabs=azure-storage). The COVID Tracking Project dataset is an up-to-date CSV file that provides the latest numbers on tests, confirmed cases, hospitalizations, and patient outcomes from every US state and territory.\n",
        "\n",
        "Imagine that many documents on a data lake are tabular data, or that your use case is to ask questions in natural language to a LLM model and this model needs to get the context from a CSV file or even a SQL Database in order to answer the question. A GPT Smart Search Engine, must understand how to deal with this sources, understand the data and answer acoordingly."
      ],
      "metadata": {},
      "id": "9697d091-a0fb-4aac-9761-36dbfbebae29"
    },
    {
      "cell_type": "code",
      "source": [
        "import os\n",
        "import pandas as pd\n",
        "from langchain.llms import AzureOpenAI\n",
        "from langchain.chat_models import AzureChatOpenAI\n",
        "from langchain.agents import create_pandas_dataframe_agent\n",
        "from langchain.agents import create_csv_agent\n",
        "\n",
        "# Don't mess with this unless you really know what you are doing\n",
        "AZURE_OPENAI_API_VERSION = \"2023-03-15-preview\"\n",
        "\n",
        "# Change these below with your own services credentials\n",
        "# AZURE_OPENAI_ENDPOINT = \"Enter your Azure OpenAI Endpoint ...\"\n",
        "# AZURE_OPENAI_KEY = \"Enter your Azure OpenAI Key ...\"\n",
        "AZURE_OPENAI_ENDPOINT = \"https://oai-2023-mondelez-chatgpt-01.openai.azure.com/\"\n",
        "AZURE_OPENAI_KEY = \"f86736ea92444e9f836b69de0512ca55\""
      ],
      "outputs": [],
      "execution_count": 1,
      "metadata": {
        "gather": {
          "logged": 1682138129756
        }
      },
      "id": "4ccab2f5-f8d3-4eb5-b1a7-961388d33d3d"
    },
    {
      "cell_type": "code",
      "source": [
        "# Set the ENV variables that Langchain needs to connect to Azure OpenAI\n",
        "os.environ[\"OPENAI_API_BASE\"] = os.environ[\"AZURE_OPENAI_ENDPOINT\"] = AZURE_OPENAI_ENDPOINT\n",
        "os.environ[\"OPENAI_API_KEY\"] = os.environ[\"AZURE_OPENAI_API_KEY\"] = AZURE_OPENAI_KEY\n",
        "os.environ[\"OPENAI_API_VERSION\"] = os.environ[\"AZURE_OPENAI_API_VERSION\"] = AZURE_OPENAI_API_VERSION"
      ],
      "outputs": [],
      "execution_count": 2,
      "metadata": {
        "gather": {
          "logged": 1682138133789
        }
      },
      "id": "81a497a8-d2f4-40ef-bdd2-389c44c41a2b"
    },
    {
      "cell_type": "markdown",
      "source": [
        "## Download the dataset and load it into Pandas Dataframe"
      ],
      "metadata": {},
      "id": "dd23c284-a569-4e9f-9c77-62da216be92b"
    },
    {
      "cell_type": "code",
      "source": [
        "file_url = \"https://pandemicdatalake.blob.core.windows.net/public/curated/covid-19/covid_tracking/latest/covid_tracking.csv\"\n",
        "df = pd.read_csv(file_url)\n",
        "print(\"Rows and Columns:\",df.shape)\n",
        "df.head()"
      ],
      "outputs": [
        {
          "output_type": "stream",
          "name": "stdout",
          "text": "Rows and Columns: (22261, 31)\n"
        },
        {
          "output_type": "execute_result",
          "execution_count": 3,
          "data": {
            "text/plain": "         date state  positive   negative  pending  hospitalized_currently  \\\n0  2021-03-07    AK   56886.0        NaN      NaN                    33.0   \n1  2021-03-07    AL  499819.0  1931711.0      NaN                   494.0   \n2  2021-03-07    AR  324818.0  2480716.0      NaN                   335.0   \n3  2021-03-07    AS       0.0     2140.0      NaN                     NaN   \n4  2021-03-07    AZ  826454.0  3073010.0      NaN                   963.0   \n\n   hospitalized_cumulative  in_icu_currently  in_icu_cumulative  \\\n0                   1293.0               NaN                NaN   \n1                  45976.0               NaN             2676.0   \n2                  14926.0             141.0                NaN   \n3                      NaN               NaN                NaN   \n4                  57907.0             273.0                NaN   \n\n   on_ventilator_currently  ...  fips  death_increase  hospitalized_increase  \\\n0                      2.0  ...     2               0                      0   \n1                      NaN  ...     1              -1                      0   \n2                     65.0  ...     5              22                     11   \n3                      NaN  ...    60               0                      0   \n4                    143.0  ...     4               5                     44   \n\n  negative_increase positive_increase total_test_results_increase  fips_code  \\\n0                 0               0.0                           0          2   \n1              2087             408.0                        2347          1   \n2              3267             165.0                        3380          5   \n3                 0               0.0                           0         60   \n4             13678            1335.0                       45110          4   \n\n   iso_subdivision            load_time  iso_country  \n0            US-AK  2023-04-22 00:05:45           US  \n1            US-AL  2023-04-22 00:05:45           US  \n2            US-AR  2023-04-22 00:05:45           US  \n3            US-AS  2023-04-22 00:05:45           US  \n4            US-AZ  2023-04-22 00:05:45           US  \n\n[5 rows x 31 columns]",
            "text/html": "<div>\n<style scoped>\n    .dataframe tbody tr th:only-of-type {\n        vertical-align: middle;\n    }\n\n    .dataframe tbody tr th {\n        vertical-align: top;\n    }\n\n    .dataframe thead th {\n        text-align: right;\n    }\n</style>\n<table border=\"1\" class=\"dataframe\">\n  <thead>\n    <tr style=\"text-align: right;\">\n      <th></th>\n      <th>date</th>\n      <th>state</th>\n      <th>positive</th>\n      <th>negative</th>\n      <th>pending</th>\n      <th>hospitalized_currently</th>\n      <th>hospitalized_cumulative</th>\n      <th>in_icu_currently</th>\n      <th>in_icu_cumulative</th>\n      <th>on_ventilator_currently</th>\n      <th>...</th>\n      <th>fips</th>\n      <th>death_increase</th>\n      <th>hospitalized_increase</th>\n      <th>negative_increase</th>\n      <th>positive_increase</th>\n      <th>total_test_results_increase</th>\n      <th>fips_code</th>\n      <th>iso_subdivision</th>\n      <th>load_time</th>\n      <th>iso_country</th>\n    </tr>\n  </thead>\n  <tbody>\n    <tr>\n      <th>0</th>\n      <td>2021-03-07</td>\n      <td>AK</td>\n      <td>56886.0</td>\n      <td>NaN</td>\n      <td>NaN</td>\n      <td>33.0</td>\n      <td>1293.0</td>\n      <td>NaN</td>\n      <td>NaN</td>\n      <td>2.0</td>\n      <td>...</td>\n      <td>2</td>\n      <td>0</td>\n      <td>0</td>\n      <td>0</td>\n      <td>0.0</td>\n      <td>0</td>\n      <td>2</td>\n      <td>US-AK</td>\n      <td>2023-04-22 00:05:45</td>\n      <td>US</td>\n    </tr>\n    <tr>\n      <th>1</th>\n      <td>2021-03-07</td>\n      <td>AL</td>\n      <td>499819.0</td>\n      <td>1931711.0</td>\n      <td>NaN</td>\n      <td>494.0</td>\n      <td>45976.0</td>\n      <td>NaN</td>\n      <td>2676.0</td>\n      <td>NaN</td>\n      <td>...</td>\n      <td>1</td>\n      <td>-1</td>\n      <td>0</td>\n      <td>2087</td>\n      <td>408.0</td>\n      <td>2347</td>\n      <td>1</td>\n      <td>US-AL</td>\n      <td>2023-04-22 00:05:45</td>\n      <td>US</td>\n    </tr>\n    <tr>\n      <th>2</th>\n      <td>2021-03-07</td>\n      <td>AR</td>\n      <td>324818.0</td>\n      <td>2480716.0</td>\n      <td>NaN</td>\n      <td>335.0</td>\n      <td>14926.0</td>\n      <td>141.0</td>\n      <td>NaN</td>\n      <td>65.0</td>\n      <td>...</td>\n      <td>5</td>\n      <td>22</td>\n      <td>11</td>\n      <td>3267</td>\n      <td>165.0</td>\n      <td>3380</td>\n      <td>5</td>\n      <td>US-AR</td>\n      <td>2023-04-22 00:05:45</td>\n      <td>US</td>\n    </tr>\n    <tr>\n      <th>3</th>\n      <td>2021-03-07</td>\n      <td>AS</td>\n      <td>0.0</td>\n      <td>2140.0</td>\n      <td>NaN</td>\n      <td>NaN</td>\n      <td>NaN</td>\n      <td>NaN</td>\n      <td>NaN</td>\n      <td>NaN</td>\n      <td>...</td>\n      <td>60</td>\n      <td>0</td>\n      <td>0</td>\n      <td>0</td>\n      <td>0.0</td>\n      <td>0</td>\n      <td>60</td>\n      <td>US-AS</td>\n      <td>2023-04-22 00:05:45</td>\n      <td>US</td>\n    </tr>\n    <tr>\n      <th>4</th>\n      <td>2021-03-07</td>\n      <td>AZ</td>\n      <td>826454.0</td>\n      <td>3073010.0</td>\n      <td>NaN</td>\n      <td>963.0</td>\n      <td>57907.0</td>\n      <td>273.0</td>\n      <td>NaN</td>\n      <td>143.0</td>\n      <td>...</td>\n      <td>4</td>\n      <td>5</td>\n      <td>44</td>\n      <td>13678</td>\n      <td>1335.0</td>\n      <td>45110</td>\n      <td>4</td>\n      <td>US-AZ</td>\n      <td>2023-04-22 00:05:45</td>\n      <td>US</td>\n    </tr>\n  </tbody>\n</table>\n<p>5 rows × 31 columns</p>\n</div>"
          },
          "metadata": {}
        }
      ],
      "execution_count": 3,
      "metadata": {
        "gather": {
          "logged": 1682138137234
        }
      },
      "id": "54c0f7eb-0ec2-44aa-b02b-8dbe1b122b28"
    },
    {
      "cell_type": "code",
      "source": [
        "df.columns"
      ],
      "outputs": [
        {
          "output_type": "execute_result",
          "execution_count": 4,
          "data": {
            "text/plain": "Index(['date', 'state', 'positive', 'negative', 'pending',\n       'hospitalized_currently', 'hospitalized_cumulative', 'in_icu_currently',\n       'in_icu_cumulative', 'on_ventilator_currently',\n       'on_ventilator_cumulative', 'recovered', 'data_quality_grade',\n       'last_update_et', 'hash', 'date_checked', 'death', 'hospitalized',\n       'total', 'total_test_results', 'pos_neg', 'fips', 'death_increase',\n       'hospitalized_increase', 'negative_increase', 'positive_increase',\n       'total_test_results_increase', 'fips_code', 'iso_subdivision',\n       'load_time', 'iso_country'],\n      dtype='object')"
          },
          "metadata": {}
        }
      ],
      "execution_count": 4,
      "metadata": {
        "gather": {
          "logged": 1682138142773
        }
      },
      "id": "d703e877-0a85-43c5-ab35-8ecbe72c44c8"
    },
    {
      "cell_type": "markdown",
      "source": [
        "## Load our LLM and create our MRKL Agent"
      ],
      "metadata": {},
      "id": "21f25d06-03c3-4f73-bb9a-5a43777d1bf5"
    },
    {
      "cell_type": "markdown",
      "source": [
        "The implementation of Agents is inspired by two papers: the [MRKL Systems](https://arxiv.org/abs/2205.00445) paper (pronounced ‘miracle’ 😉) and the [ReAct](https://arxiv.org/abs/2210.03629) paper.\n",
        "\n",
        "Agents are a way to leverage the ability of LLMs to understand and act on prompts. In essence, an Agent is an LLM that has been given a very clever initial prompt. The prompt tells the LLM to break down the process of answering a complex query into a sequence of steps that are resolved one at a time.\n",
        "\n",
        "Agents become really cool when we combine them with ‘experts’, introduced in the MRKL paper. Simple example: an Agent might not have the inherent capability to reliably perform mathematical calculations by itself. However, we can introduce an expert - in this case a calculator, an expert at mathematical calculations. Now, when we need to perform a calculation, the Agent can call in the expert rather than trying to predict the result itself. This is actually the concept behind [ChatGPT Pluggins](https://openai.com/blog/chatgpt-plugins).\n",
        "\n",
        "In our case, in order to solve the problem \"How do I ask questions to a tabular CSV file\", we need this REACT/MRKL approach, in which we need to instruct the LLM that it needs to use an 'expert/tool' in order to read/load/understand/interact with a CSV tabular file.\n",
        "\n",
        "OpenAI opened the world to a whole new concept. Libraries are being created fast and furious. We will be using [LangChain](https://docs.langchain.com/docs/) as our library to solve this problem, however there are others that we recommend: [HayStack](https://haystack.deepset.ai/) and [Semantic Kernel](https://learn.microsoft.com/en-us/semantic-kernel/whatissk)."
      ],
      "metadata": {},
      "id": "87d4c5dd-8d4b-4a7b-a108-99486582530d"
    },
    {
      "cell_type": "code",
      "source": [
        "# First we load our LLM: GPT-4 (you are welcome to try GPT-3.5-Turbo. \n",
        "# You will see that it does not have the cognitive capabilities to become a smart agent)\n",
        "\n",
        "# llm = AzureChatOpenAI(deployment_name=\"gpt-4\", temperature=0.5, max_tokens=500)\n",
        "llm = AzureChatOpenAI(deployment_name=\"gpt-35-turbo\", temperature=0.5, max_tokens=500)"
      ],
      "outputs": [],
      "execution_count": 5,
      "metadata": {
        "gather": {
          "logged": 1682138147776
        }
      },
      "id": "46238c2e-2eb4-4fc3-8472-b894380a5063"
    },
    {
      "cell_type": "code",
      "source": [
        "# Now we need our agent and our expert/tool.  \n",
        "# LangChain has created an out-of-the-box agents that we can use to solve our Q&A to CSV tabular data file problem. \n",
        "agent = create_csv_agent(llm, file_url, verbose=True)"
      ],
      "outputs": [],
      "execution_count": 6,
      "metadata": {
        "gather": {
          "logged": 1682138151089
        }
      },
      "id": "0b5a5c3f-41c7-47e9-84d4-6e4c068560d6"
    },
    {
      "cell_type": "code",
      "source": [
        "# Natural Language question (query) + a Suffix to format the answer the way we like\n",
        "query_str = 'How may patients were on ventilator last month in the east coast?'\n",
        "suffix = '. ALWAYS before giving the Final Answer, reflect on the answer and ask yourself if it answers correctly the original question. If you are not sure, try another method. \\n If the two runs does not give the same result, reflect again two more times until you have two runs that have the same result. If you still cannot arrive to a consistent result, say that you are not sure of the answer. But, if you are sure of the correct answer, create a beautiful and thorough response. ALWAYS, as part of your final answer, explain how you got to the answer on a section that starts with: \"\\n\\nExplanation:\\n.\"'"
      ],
      "outputs": [],
      "execution_count": 7,
      "metadata": {
        "gather": {
          "logged": 1682138153780
        }
      },
      "id": "8e0f130f-855f-4844-9987-197f8f9675df"
    },
    {
      "cell_type": "markdown",
      "source": [
        "## Enjoy the response and the power of GPT-4 + REACT/MKRL approach"
      ],
      "metadata": {},
      "id": "7d0220e2-9b3f-467e-9843-7a27a09fd39b"
    },
    {
      "cell_type": "code",
      "source": [
        "# We are doing a for loop to retry N times. This is because: \n",
        "# 1) GPT-4 is still in preview and the API is being very throttled and \n",
        "# 2) Because the LLM not always gives the answer on the exact format the agent needs and hence cannot be parsed\n",
        "\n",
        "for i in range(5):\n",
        "    try:\n",
        "        response = agent.run(query_str + suffix) \n",
        "        break\n",
        "    except:\n",
        "        response = \"Error too many failed retries\"\n",
        "        continue  \n",
        "        \n",
        "print(response)"
      ],
      "outputs": [
        {
          "output_type": "stream",
          "name": "stdout",
          "text": "\n\n\u001b[1m> Entering new AgentExecutor chain...\u001b[0m\n\u001b[32;1m\u001b[1;3mThought: We need to filter the dataframe to only include the east coast states and only include data from last month.\nAction: python_repl_ast\nAction Input:\n```\nfrom datetime import datetime, timedelta\nlast_month = datetime.now() - timedelta(days=30)\neast_coast = ['ME', 'NH', 'VT', 'MA', 'RI', 'CT', 'NY', 'NJ', 'PA', 'DE', 'MD', 'DC', 'VA', 'WV', 'NC', 'SC', 'GA', 'FL']\neast_coast_df = df[df['state'].isin(east_coast) & (df['date'] >= last_month.strftime('%Y-%m-%d'))]\neast_coast_df[['date', 'state', 'on_ventilator_currently']]\n```\u001b[0m\nObservation: \u001b[36;1m\u001b[1;3mEmpty DataFrame\nColumns: [date, state, on_ventilator_currently]\nIndex: []\u001b[0m\nThought:\u001b[32;1m\u001b[1;3mThe query did not return any results. It's possible that there were no patients on ventilator in the east coast states during the last month. Let's try to confirm this by checking the maximum and minimum values for the 'on_ventilator_currently' column in the entire dataframe.\nAction: python_repl_ast\nAction Input:\n```\nprint(df['on_ventilator_currently'].max())\nprint(df['on_ventilator_currently'].min())\n```\u001b[0m2425.0\n0.0\n\nObservation: \u001b[36;1m\u001b[1;3mNone\u001b[0m\nThought:\u001b[32;1m\u001b[1;3mThe output is not useful because it is missing the actual values. Let's try again with a different method to get the maximum and minimum values.\nAction: python_repl_ast\nAction Input:\n```\nprint(df['on_ventilator_currently'].describe())\n```\u001b[0mcount    10017.000000\nmean       157.845762\nstd        212.797361\nmin          0.000000\n25%         29.000000\n50%         89.000000\n75%        192.000000\nmax       2425.000000\nName: on_ventilator_currently, dtype: float64\n\nObservation: \u001b[36;1m\u001b[1;3mNone\u001b[0m\nThought:\u001b[32;1m\u001b[1;3mIt seems that the 'on_ventilator_currently' column has missing values. Let's check how many missing values there are.\nAction: python_repl_ast\nAction Input:\n```\nprint(df['on_ventilator_currently'].isna().sum())\n```\u001b[0m12244\n\nObservation: \u001b[36;1m\u001b[1;3mNone\u001b[0m\nThought:\u001b[32;1m\u001b[1;3mThere are missing values in the 'on_ventilator_currently' column. It's possible that the query returned an empty dataframe because there were no non-missing values for the 'on_ventilator_currently' column in the east coast states during the last month. Let's try to confirm this by checking the number of non-missing values for the 'on_ventilator_currently' column in the entire dataframe.\nAction: python_repl_ast\nAction Input:\n```\nprint(df['on_ventilator_currently'].count())\n```\u001b[0m10017\n\nObservation: \u001b[36;1m\u001b[1;3mNone\u001b[0m\nThought:\n\n\u001b[1m> Entering new AgentExecutor chain...\u001b[0m\n\u001b[32;1m\u001b[1;3mThought: We need to filter the dataframe by the east coast states and by the last month.\nAction: python_repl_ast\nAction Input:\n```\nfrom datetime import datetime, timedelta\nlast_month = datetime.now() - timedelta(days=30)\neast_coast = ['ME', 'NH', 'VT', 'MA', 'RI', 'CT', 'NY', 'NJ', 'PA', 'DE', 'MD', 'DC', 'VA', 'WV', 'NC', 'SC', 'GA', 'FL']\ndf_east_coast = df[df['state'].isin(east_coast)]\ndf_last_month = df_east_coast[df_east_coast['date'] >= last_month.strftime('%Y-%m-%d')]\ndf_last_month[['state', 'on_ventilator_currently']]\n```\u001b[0m\nObservation: \u001b[36;1m\u001b[1;3mEmpty DataFrame\nColumns: [state, on_ventilator_currently]\nIndex: []\u001b[0m\nThought:\u001b[32;1m\u001b[1;3mThe code did not return any results. This could be because there were no patients on ventilator in the east coast last month, or there is an error in the code. We should check the date range and the list of east coast states.\nAction: python_repl_ast\nAction Input:\n```\nprint(last_month.strftime('%Y-%m-%d'))\nprint(east_coast)\n```\u001b[0m2023-03-23\n['ME', 'NH', 'VT', 'MA', 'RI', 'CT', 'NY', 'NJ', 'PA', 'DE', 'MD', 'DC', 'VA', 'WV', 'NC', 'SC', 'GA', 'FL']\n\nObservation: \u001b[36;1m\u001b[1;3mNone\u001b[0m\nThought:\u001b[32;1m\u001b[1;3mThe date range and the list of east coast states seem correct. We should check if there is any data for the east coast states in the dataframe.\nAction: python_repl_ast\nAction Input:\n```\ndf_east_coast[['state', 'date']].groupby('state').count()\n```\u001b[0m\nObservation: \u001b[36;1m\u001b[1;3m       date\nstate      \nCT      373\nDC      368\nDE      367\nFL      404\nGA      369\nMA      411\nMD      368\nME      366\nNC      369\nNH      369\nNJ      392\nNY      371\nPA      740\nRI      372\nSC      369\nVA      406\nVT      370\nWV      367\u001b[0m\nThought:\u001b[32;1m\u001b[1;3mThere seems to be enough data for each east coast state. We should check if there is any data for patients on ventilator in the dataframe.\nAction: python_repl_ast\nAction Input:\n```\ndf_east_coast[['state', 'on_ventilator_currently']].groupby('state').sum()\n```\u001b[0m\nObservation: \u001b[36;1m\u001b[1;3m       on_ventilator_currently\nstate                         \nCT                         0.0\nDC                      9650.0\nDE                         0.0\nFL                         0.0\nGA                         0.0\nMA                     31144.0\nMD                         0.0\nME                      2788.0\nNC                         0.0\nNH                         0.0\nNJ                    123093.0\nNY                    140519.0\nPA                    204932.0\nRI                      6802.0\nSC                     35593.0\nVA                     60338.0\nVT                         0.0\nWV                     11320.0\u001b[0m\nThought:\u001b[32;1m\u001b[1;3mWe can see that there were patients on ventilator in some of the east coast states, but not in all. We should filter the dataframe to only include states with patients on ventilator and then sum the values.\nAction: python_repl_ast\nAction Input:\n```\ndf_ventilator = df_east_coast[df_east_coast['on_ventilator_currently'] > 0]\ndf_ventilator['on_ventilator_currently'].sum()\n```\u001b[0m\nObservation: \u001b[36;1m\u001b[1;3m626179.0\u001b[0m\nThought:\n\n\u001b[1m> Entering new AgentExecutor chain...\u001b[0m\n\u001b[32;1m\u001b[1;3mThought: We need to filter the dataframe by date and region to get the number of patients on ventilator last month on the east coast. \nAction: python_repl_ast\nAction Input:\n```\nfrom datetime import datetime, timedelta\nlast_month = datetime.today() - timedelta(days=30)\neast_coast = ['ME', 'NH', 'VT', 'MA', 'RI', 'CT', 'NY', 'NJ', 'PA']\ndf_filtered = df[(df['state'].isin(east_coast)) & (df['date'] >= last_month.strftime('%Y-%m-%d'))]\ndf_filtered[['state', 'on_ventilator_currently']]\n```\u001b[0m\nObservation: \u001b[36;1m\u001b[1;3mEmpty DataFrame\nColumns: [state, on_ventilator_currently]\nIndex: []\u001b[0m\nThought:\u001b[32;1m\u001b[1;3mThe filter criteria may be too restrictive. Let's check the date range and the east coast states in the dataframe.\nAction: python_repl_ast\nAction Input:\n```\nprint(df['date'].min())\nprint(df['date'].max())\nprint(df['state'].unique())\n```\u001b[0m2020-01-13\n2021-03-07\n['AK' 'AL' 'AR' 'AS' 'AZ' 'CA' 'CO' 'CT' 'DC' 'DE' 'FL' 'GA' 'GU' 'HI'\n 'IA' 'ID' 'IL' 'IN' 'KS' 'KY' 'LA' 'MA' 'MD' 'ME' 'MI' 'MN' 'MO' 'MP'\n 'MS' 'MT' 'NC' 'ND' 'NE' 'NH' 'NJ' 'NM' 'NV' 'NY' 'OH' 'OK' 'OR' 'PA'\n 'PR' 'RI' 'SC' 'SD' 'TN' 'TX' 'UT' 'VA' 'VI' 'VT' 'WA' 'WI' 'WV' 'WY']\n\nObservation: \u001b[36;1m\u001b[1;3mNone\u001b[0m\nThought:\u001b[32;1m\u001b[1;3mThe date range seems to be up to date, but the state column has more values than just the east coast states. We need to make sure we are using the correct state abbreviations for the east coast states.\nAction: python_repl_ast\nAction Input:\n```\neast_coast_states = ['ME', 'NH', 'VT', 'MA', 'RI', 'CT', 'NY', 'NJ', 'PA']\ndf_filtered = df[(df['state'].isin(east_coast_states)) & (df['date'] >= last_month.strftime('%Y-%m-%d'))]\ndf_filtered[['state', 'on_ventilator_currently']]\n```\u001b[0m\nObservation: \u001b[36;1m\u001b[1;3mEmpty DataFrame\nColumns: [state, on_ventilator_currently]\nIndex: []\u001b[0m\nThought:\u001b[32;1m\u001b[1;3mMaybe there were no patients on ventilator in the east coast last month. Let's check the maximum value for the 'on_ventilator_currently' column.\nAction: python_repl_ast\nAction Input:\n```\ndf['on_ventilator_currently'].max()\n```\u001b[0m\nObservation: \u001b[36;1m\u001b[1;3m2425.0\u001b[0m\nThought:\u001b[32;1m\u001b[1;3mThe maximum value for the 'on_ventilator_currently' column is not zero, so there were patients on ventilator at some point. Let's try filtering by a larger date range to see if we get any results.\nAction: python_repl_ast\nAction Input:\n```\nlast_3_months = datetime.today() - timedelta(days=90)\ndf_filtered = df[(df['state'].isin(east_coast_states)) & (df['date'] >= last_3_months.strftime('%Y-%m-%d'))]\ndf_filtered[['state', 'on_ventilator_currently']]\n```\u001b[0m\nObservation: \u001b[36;1m\u001b[1;3mEmpty DataFrame\nColumns: [state, on_ventilator_currently]\nIndex: []\u001b[0m\nThought:\n\n\u001b[1m> Entering new AgentExecutor chain...\u001b[0m\n\u001b[32;1m\u001b[1;3mThought: We need to filter the dataframe to only include the east coast states and the data from last month. Then, we need to sum the values in the 'on_ventilator_currently' column to get the total number of patients on ventilator.\nAction: python_repl_ast\nAction Input:\n```\nimport datetime\nlast_month = datetime.date.today().replace(day=1) - datetime.timedelta(days=1)\neast_coast = ['ME', 'NH', 'VT', 'MA', 'RI', 'CT', 'NY', 'NJ', 'PA', 'DE', 'MD', 'DC', 'VA', 'WV', 'NC', 'SC', 'GA', 'FL']\nfiltered_df = df[(df['state'].isin(east_coast)) & (pd.to_datetime(df['date']).dt.month == last_month.month)]\ntotal_on_ventilator = filtered_df['on_ventilator_currently'].sum()\ntotal_on_ventilator\n```\u001b[0m\nObservation: \u001b[36;1m\u001b[1;3mNameError: name 'pd' is not defined\u001b[0m\nThought:\u001b[32;1m\u001b[1;3mWe need to import pandas before using it in our code.\nAction: python_repl_ast\nAction Input:\n```\nimport pandas as pd\nimport datetime\nlast_month = datetime.date.today().replace(day=1) - datetime.timedelta(days=1)\neast_coast = ['ME', 'NH', 'VT', 'MA', 'RI', 'CT', 'NY', 'NJ', 'PA', 'DE', 'MD', 'DC', 'VA', 'WV', 'NC', 'SC', 'GA', 'FL']\nfiltered_df = df[(df['state'].isin(east_coast)) & (pd.to_datetime(df['date']).dt.month == last_month.month)]\ntotal_on_ventilator = filtered_df['on_ventilator_currently'].sum()\ntotal_on_ventilator\n```\u001b[0m\nObservation: \u001b[36;1m\u001b[1;3m12348.0\u001b[0m\nThought:\u001b[32;1m\u001b[1;3mWe got a result of 12348.0 patients on ventilator last month in the east coast.\nFinal Answer: There were 12348.0 patients on ventilator last month in the east coast. \n\nExplanation: \nTo answer the question, we needed to filter the dataframe to only include the east coast states and the data from last month. We did this by creating a list of east coast states and getting the last month's date using the datetime module. We then filtered the dataframe using the isin() method to get only the rows with states in the east coast list and the pd.to_datetime() method to get only the rows with dates in the last month. Finally, we used the sum() method to get the total number of patients on ventilator in the filtered dataframe. The result was 12348.0 patients on ventilator last month in the east coast.\u001b[0m\n\n\u001b[1m> Finished chain.\u001b[0m\nThere were 12348.0 patients on ventilator last month in the east coast. \n\nExplanation: \nTo answer the question, we needed to filter the dataframe to only include the east coast states and the data from last month. We did this by creating a list of east coast states and getting the last month's date using the datetime module. We then filtered the dataframe using the isin() method to get only the rows with states in the east coast list and the pd.to_datetime() method to get only the rows with dates in the last month. Finally, we used the sum() method to get the total number of patients on ventilator in the filtered dataframe. The result was 12348.0 patients on ventilator last month in the east coast.\n"
        }
      ],
      "execution_count": 8,
      "metadata": {
        "gather": {
          "logged": 1682138235118
        }
      },
      "id": "d6eb9727-036f-4a43-a796-7702183fc57d"
    },
    {
      "cell_type": "markdown",
      "source": [
        "# Summary"
      ],
      "metadata": {},
      "id": "073913d5-321b-4c56-9c66-649266cf6280"
    },
    {
      "cell_type": "markdown",
      "source": [
        "So, we just solved our problem on how to ask questions in natural language to our Tabular data hosted on a CSV File.\n",
        "With this approach you can see then that it is NOT necessary to make a dump of a database data into a CSV file and index that on a Search Engine, you don't even need to use the above approach and deal with a CSV data dump file. With the Agents framework, the best engineering decision is to interact directly with the data source API without the need to replicate the data in order to ask questions to it. Remember, GPT-4 can do SQL very well. \n",
        "\n",
        "Just think about this: if GPT-4 can do the above, imagine what GPT-5/6/7/8 will be able to do.\n",
        "\n",
        "This is implemented in the App of this repo as well, where you will be able to upload any tabular CSV you like and ask questions to it"
      ],
      "metadata": {},
      "id": "41108384-c132-45fc-92e4-31dc1bcf00c0"
    },
    {
      "cell_type": "markdown",
      "source": [
        "# Reference\n",
        "\n",
        "- https://haystack.deepset.ai/blog/introducing-haystack-agents\n",
        "- https://python.langchain.com/en/latest/modules/agents/agents.html\n",
        "- https://tsmatz.wordpress.com/2023/03/07/react-with-openai-gpt-and-langchain/\n",
        "- https://medium.com/@meghanheintz/intro-to-langchain-llm-templates-and-agents-8793f30f1837"
      ],
      "metadata": {},
      "id": "69e074a0-4f46-40c7-9567-7058ba103f5b"
    },
    {
      "cell_type": "code",
      "source": [],
      "outputs": [],
      "execution_count": null,
      "metadata": {},
      "id": "21e4f00a-c0f0-4339-b2a6-10de326023ba"
    }
  ],
  "metadata": {
    "kernelspec": {
      "name": "envmark01",
      "language": "python",
      "display_name": "(envMark01)"
    },
    "language_info": {
      "name": "python",
      "version": "3.11.3",
      "mimetype": "text/x-python",
      "codemirror_mode": {
        "name": "ipython",
        "version": 3
      },
      "pygments_lexer": "ipython3",
      "nbconvert_exporter": "python",
      "file_extension": ".py"
    },
    "microsoft": {
      "ms_spell_check": {
        "ms_spell_check_language": "en"
      },
      "host": {
        "AzureML": {
          "notebookHasBeenCompleted": true
        }
      }
    },
    "kernel_info": {
      "name": "envmark01"
    },
    "nteract": {
      "version": "nteract-front-end@1.0.0"
    }
  },
  "nbformat": 4,
  "nbformat_minor": 5
}